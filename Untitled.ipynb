{
 "cells": [
  {
   "cell_type": "code",
   "execution_count": 1,
   "metadata": {},
   "outputs": [],
   "source": [
    "import numpy as np\n",
    "import matplotlib\n",
    "\n",
    "import matplotlib.cm as cm\n",
    "import matplotlib.pyplot as plt\n",
    "import os\n",
    "from scipy.misc import derivative\n",
    "from scipy.integrate import solve_bvp\n",
    "from functools import partial\n",
    "from scipy import special as sp\n",
    "import plasmapy.mathematics\n",
    "import scipy.optimize as op\n",
    "from functools import partial\n",
    "from scipy import integrate\n",
    "%config InlineBackend.figure_format = 'svg'"
   ]
  },
  {
   "cell_type": "code",
   "execution_count": 3,
   "metadata": {
    "code_folding": [
     0,
     3
    ]
   },
   "outputs": [],
   "source": [
    "def fm(v, t):\n",
    "    r = np.sqrt(1./(2.*np.pi*t))*np.exp(-v**2/(2*t))\n",
    "    return r\n",
    "def fk(v, t, kappa):\n",
    "    if(kappa == 0):\n",
    "        r = fm(v, t)\n",
    "    else:\n",
    "        r = np.sqrt(m/(2.*np.pi*t*kappa)) * sp.gamma(kappa+1.5) / \\\n",
    "            sp.gamma(kappa+1) * (1 + m*v**2 / kappa / 2 / t) ** (-kappa-1.5)\n",
    "    return r\n",
    "def ue(x):\n",
    "    r = 1.+uae*np.cos(2.*np.pi*x/L)\n",
    "    return r\n",
    "def ui(x):\n",
    "    r = 1.+uai*np.cos(2.*np.pi*x/L)\n",
    "    return r"
   ]
  },
  {
   "cell_type": "code",
   "execution_count": 124,
   "metadata": {},
   "outputs": [],
   "source": [
    "L = 5\n",
    "vmax = 5  # 10 * np.sqrt(tem)\n",
    "nx = 101\n",
    "nv = 501\n",
    "dx = L/(nx-1)\n",
    "dv = 2*vmax/(nv-1)\n",
    "x = np.linspace(0, L, num=nx, endpoint=True)\n",
    "v = np.linspace(-vmax, vmax, num=nv, endpoint=True)\n",
    "V, X = np.meshgrid(v, x)\n",
    "dt = 0.005\n",
    "max_steps = 100000\n",
    "data_steps = 10000\n",
    "uai = 0.2\n",
    "uae = 0.4\n",
    "\n",
    "path = './data/'\n",
    "\n",
    "m=1\n",
    "n=1\n",
    "q=1\n",
    "v_th = np.sqrt(2*tem)\n",
    "l_D = np.sqrt( tem) # $\\lambda_D^2$\n",
    "w_pe = 1"
   ]
  },
  {
   "cell_type": "code",
   "execution_count": 125,
   "metadata": {},
   "outputs": [
    {
     "name": "stdout",
     "output_type": "stream",
     "text": [
      "k =  1.2566370614359172\n",
      "w_r =  2.351357561106023\n",
      "w_i =  -1.3061913039484854\n",
      "v_p =  1.8711508941326347\n",
      "rt =  2.9207325472479027\n",
      "ltime 250.0\n",
      "rtime =  500.0\n"
     ]
    }
   ],
   "source": [
    "k = 2*np.pi/L\n",
    "def eq4PDRM(w,k):\n",
    "    wr,wi=w\n",
    "    wc=complex(wr,wi)\n",
    "    zeta = wc / k /v_th\n",
    "    r = 1 + 1 / k**2 / l_D**2 * ( 1 + zeta*plasmapy.mathematics.plasma_dispersion_func(zeta) )\n",
    "    return [r.real,r.imag]\n",
    "#kvec = np.arange(.1,1.2,0.1)\n",
    "print(\"k = \",k)\n",
    "s=op.root(lambda w:eq4PDRM(w,k),[1,0.1])\n",
    "v_p = s.x[0]/k\n",
    "print(\"w_r = \",s.x[0])\n",
    "print(\"w_i = \",s.x[1])\n",
    "print(\"v_p = \",v_p)\n",
    "print(\"rt = \", abs(s.x[1]/np.sqrt(abs(uae-uai))))\n",
    "print('ltime',2*np.pi/k/dv)\n",
    "print('rtime = ', max_steps*dt)"
   ]
  },
  {
   "cell_type": "code",
   "execution_count": 134,
   "metadata": {},
   "outputs": [],
   "source": [
    "kappa = 1.59081\n",
    "t0 = 1.010209\n",
    "para = [kappa,t0]"
   ]
  },
  {
   "cell_type": "code",
   "execution_count": 135,
   "metadata": {
    "code_folding": [
     0,
     4,
     8,
     16
    ]
   },
   "outputs": [],
   "source": [
    "def ug(x):\n",
    "    r = (1. + uai * np.cos(k*x)) #/ (2*1.*a)\n",
    "    return r\n",
    "\n",
    "def ug_dev(x):\n",
    "    r = -uai*k*np.sin(k*x)#/ 2. / a\n",
    "    return r\n",
    "\n",
    "def eq4U(x,yy,p):\n",
    "    kappa,t=p\n",
    "    dy, y = yy\n",
    "    k_factor = (kappa+2) / (kappa+1)\n",
    "    dy2y = (dy**2) / y\n",
    "    ddy = k_factor * dy2y + (kappa+1) / (kappa) * (y**k_factor) * ( y-ui(x) ) / t * n * (q**2)\n",
    "    return np.vstack((ddy, dy))\n",
    "\n",
    "def bc4U(ya, yb):\n",
    "    return np.array([ya[0]-yb[0],ya[1]-yb[1]])\n",
    "\n",
    "xi = np.linspace(0, L, num=5000, dtype='complex',endpoint=False)\n",
    "yguess = np.array([ug_dev(xi), ui(xi)])\n",
    "sol = solve_bvp(partial(eq4U,p=para), bc4U, xi, yguess,tol=1e-13,max_nodes=50000)"
   ]
  },
  {
   "cell_type": "code",
   "execution_count": 136,
   "metadata": {
    "code_folding": [
     0,
     2
    ]
   },
   "outputs": [
    {
     "name": "stdout",
     "output_type": "stream",
     "text": [
      "2.9875299358936345\n"
     ]
    }
   ],
   "source": [
    "def ff(x):\n",
    "    return sol.sol(x)[1].real\n",
    "def entropy_pred(x, v):        \n",
    "    t_x = t0 * ff(x) ** (-1./(kappa+1))\n",
    "    tempf = ff(x) * fk(v, t_x, kappa)/L\n",
    "    if (tempf == 0.0):\n",
    "        r = 0.0\n",
    "    else:\n",
    "        r = -tempf * np.log(tempf)\n",
    "    r = -tempf * np.log(tempf)\n",
    "    return r\n",
    "entropy = integrate.dblquad(entropy_pred, -np.inf, np.inf,  0,  L, epsrel=1e-10)[0]\n",
    "print(entropy)"
   ]
  },
  {
   "cell_type": "code",
   "execution_count": 137,
   "metadata": {
    "code_folding": []
   },
   "outputs": [
    {
     "name": "stdout",
     "output_type": "stream",
     "text": [
      "0.5063325303370568\n"
     ]
    }
   ],
   "source": [
    "def ff_inti(x):\n",
    "    r = ff(x)**(kappa/(kappa+1))\n",
    "    return r\n",
    "        \n",
    "def ff_intii(x):\n",
    "    r = ui(x) * (ff(x) ** (-1.0/(kappa+1)))\n",
    "    return r\n",
    "    \n",
    "def ff_intiii(x):\n",
    "    r = ff(x)**(-1./(kappa+1))\n",
    "    return r\n",
    "\n",
    "int_ff = integrate.quad(ff, 0, L, epsrel=1e-10)[0]-1.0    \n",
    "int_i = integrate.quad(ff_inti, 0, L, epsrel=1e-10)[0]\n",
    "int_ii = integrate.quad(ff_intii, 0, L, epsrel=1e-10)[0]\n",
    "int_iii = integrate.quad(ff_intiii, 0, L, epsrel=1e-10)[0]\n",
    "energy = (t0* (1+kappa) * int_i - t0 * kappa * int_ii)/2/L\n",
    "print(energy)"
   ]
  },
  {
   "cell_type": "code",
   "execution_count": 140,
   "metadata": {
    "code_folding": []
   },
   "outputs": [],
   "source": [
    "def equation(t,delta_e):\n",
    "    def uu(x):\n",
    "        r = 1.+delta_e*np.cos(2.*np.pi*x/L)\n",
    "        return r\n",
    "    def nphi(x):\n",
    "        phi = -( q*(delta_e-uai) )/ (k**2)*np.cos(k*x)/L\n",
    "        return (ui(x)-uu(x) )*q*phi\n",
    "    \n",
    "    einit_theo=0.5*t+0.5*integrate.quad(nphi,0,L)[0]\n",
    "    \n",
    "    def entropy_fun(x,v):\n",
    "        ufv = fm(v, t)*uu(x)/L\n",
    "        if (ufv==0.0):\n",
    "            r = 0.0\n",
    "        else:\n",
    "            r = -ufv * np.log(ufv)\n",
    "        return r\n",
    "    entropyt_int_res = integrate.nquad(entropy_fun,[[0,L],[-np.inf,np.inf]])\n",
    "    entropyt=entropyt_int_res[0]\n",
    "    eq1 = entropyt - entropy\n",
    "    eq2 = einit_theo - energy\n",
    "    return eq1,eq2"
   ]
  },
  {
   "cell_type": "code",
   "execution_count": 141,
   "metadata": {},
   "outputs": [
    {
     "name": "stdout",
     "output_type": "stream",
     "text": [
      "(3.241979711354759e-07, 4.364058925343528e-08)\n"
     ]
    }
   ],
   "source": [
    "print(equation(1.0,0.4))"
   ]
  },
  {
   "cell_type": "code",
   "execution_count": null,
   "metadata": {},
   "outputs": [],
   "source": []
  }
 ],
 "metadata": {
  "kernelspec": {
   "display_name": "Python 3",
   "language": "python",
   "name": "python3"
  },
  "language_info": {
   "codemirror_mode": {
    "name": "ipython",
    "version": 3
   },
   "file_extension": ".py",
   "mimetype": "text/x-python",
   "name": "python",
   "nbconvert_exporter": "python",
   "pygments_lexer": "ipython3",
   "version": "3.7.4"
  },
  "toc": {
   "base_numbering": 1,
   "nav_menu": {},
   "number_sections": true,
   "sideBar": true,
   "skip_h1_title": false,
   "title_cell": "Table of Contents",
   "title_sidebar": "Contents",
   "toc_cell": false,
   "toc_position": {},
   "toc_section_display": true,
   "toc_window_display": false
  },
  "varInspector": {
   "cols": {
    "lenName": 16,
    "lenType": 16,
    "lenVar": 40
   },
   "kernels_config": {
    "python": {
     "delete_cmd_postfix": "",
     "delete_cmd_prefix": "del ",
     "library": "var_list.py",
     "varRefreshCmd": "print(var_dic_list())"
    },
    "r": {
     "delete_cmd_postfix": ") ",
     "delete_cmd_prefix": "rm(",
     "library": "var_list.r",
     "varRefreshCmd": "cat(var_dic_list()) "
    }
   },
   "types_to_exclude": [
    "module",
    "function",
    "builtin_function_or_method",
    "instance",
    "_Feature"
   ],
   "window_display": false
  }
 },
 "nbformat": 4,
 "nbformat_minor": 2
}
