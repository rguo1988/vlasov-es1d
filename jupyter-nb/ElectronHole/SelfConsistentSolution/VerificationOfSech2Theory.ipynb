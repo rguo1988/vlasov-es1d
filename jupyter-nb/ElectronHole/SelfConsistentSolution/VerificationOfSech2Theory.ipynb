{
 "cells": [
  {
   "cell_type": "code",
   "execution_count": 1,
   "metadata": {},
   "outputs": [],
   "source": [
    "import numpy as np\n",
    "from prettytable import PrettyTable\n",
    "import os\n",
    "import matplotlib.pyplot as plt\n",
    "import matplotlib\n",
    "import matplotlib.colors as colors\n",
    "import matplotlib.ticker\n",
    "import scipy.signal\n",
    "import scipy.optimize as op\n",
    "import plasmapy\n",
    "import matplotlib.cm as cm\n",
    "from scipy import special as sp\n",
    "from scipy import integrate\n",
    "from prettytable import PrettyTable\n",
    "from scipy import fftpack\n",
    "from tqdm import tqdm\n",
    "import numba as nb\n",
    "%config InlineBackend.figure_format = 'svg'"
   ]
  },
  {
   "cell_type": "code",
   "execution_count": 245,
   "metadata": {},
   "outputs": [],
   "source": [
    "u = 1.\n",
    "kappa = 2"
   ]
  },
  {
   "cell_type": "code",
   "execution_count": 246,
   "metadata": {},
   "outputs": [],
   "source": [
    "def integrad(v):\n",
    "    Nk = sp.gamma(kappa)/sp.gamma(kappa-0.5)\n",
    "    r = (1+(v+u)**2/kappa)**(-kappa-1) * (v+u)/v\n",
    "    return 2*Nk*r/np.sqrt(np.pi*kappa)\n",
    "import mpmath as mp\n",
    "mp.dps=10\n",
    "def Z(zeta):\n",
    "    fac = 1j * (kappa+0.5) * (kappa-0.5) / kappa**1.5 / (kappa+1.0)\n",
    "    z = 0.5*(1.0+1j*zeta/np.sqrt(kappa))\n",
    "#     hyp = sp.hyp2f1(1.0,2.0*kappa+2.0,kappa+2.0,z)\n",
    "    hyp = np.complex128(mp.hyp2f1(1,2*kappa+2,kappa+2,z))\n",
    "    return fac*hyp"
   ]
  },
  {
   "cell_type": "code",
   "execution_count": 247,
   "metadata": {},
   "outputs": [
    {
     "name": "stdout",
     "output_type": "stream",
     "text": [
      "(-0.03703703703703723, 1.607794419686208e-09)\n"
     ]
    }
   ],
   "source": [
    "s = integrate.quad(integrad,-np.inf,np.inf)\n",
    "print(s)"
   ]
  },
  {
   "cell_type": "code",
   "execution_count": 248,
   "metadata": {},
   "outputs": [
    {
     "name": "stdout",
     "output_type": "stream",
     "text": [
      "-0.03703703703703698\n"
     ]
    }
   ],
   "source": [
    "t = 1.0 - 0.5/kappa + u*Z(u)\n",
    "print(2*t.real)"
   ]
  },
  {
   "cell_type": "code",
   "execution_count": 249,
   "metadata": {},
   "outputs": [],
   "source": [
    "def integrad1(v):\n",
    "    A = sp.gamma(kappa)/sp.gamma(kappa-0.5)/np.sqrt(np.pi*kappa)\n",
    "    f = (1+(v+u)**2/kappa)**(-kappa-1)\n",
    "    r = ( 2*(kappa+1)*(v+u)**2/(kappa+(v+u)**2) + u/v)/v**2\n",
    "#     r = -(v)**(-2)-u*(v)**(-3)\n",
    "#     r = ( 2*(kappa+1)/kappa*(v+u)**2 + u/v*(1+(v+u)**2/kappa) )/v**2\n",
    "    return A*f*r\n",
    "def Ds(zeta):\n",
    "    fac = (kappa+0.5) * (kappa-0.5) / kappa**2 / (kappa+2.0)\n",
    "    z = 0.5*(1.0+1j*zeta/np.sqrt(kappa))\n",
    "    hyp1 = np.complex128(mp.hyp2f1(2,2*kappa+3,kappa+3,z))\n",
    "    hyp2 = 1j*(2*kappa+3)/np.sqrt(kappa)/(kappa+3)*zeta*np.complex128(mp.hyp2f1(3,2*kappa+4,kappa+4,z))/2.0\n",
    "    return fac*(hyp1+hyp2)"
   ]
  },
  {
   "cell_type": "code",
   "execution_count": 250,
   "metadata": {},
   "outputs": [
    {
     "name": "stdout",
     "output_type": "stream",
     "text": [
      "-0.672839506238065\n"
     ]
    }
   ],
   "source": [
    "s1 = integrate.quad(integrad1,-np.inf,np.inf)[0]\n",
    "print(s1)"
   ]
  },
  {
   "cell_type": "code",
   "execution_count": 251,
   "metadata": {},
   "outputs": [
    {
     "name": "stdout",
     "output_type": "stream",
     "text": [
      "-0.6728395061728397\n",
      "0.9999999999030597\n"
     ]
    }
   ],
   "source": [
    "t1 = Ds(u).real\n",
    "print(t1)\n",
    "print(t1/s1)"
   ]
  },
  {
   "cell_type": "code",
   "execution_count": null,
   "metadata": {},
   "outputs": [],
   "source": []
  }
 ],
 "metadata": {
  "kernelspec": {
   "display_name": "Python 3",
   "language": "python",
   "name": "python3"
  },
  "language_info": {
   "codemirror_mode": {
    "name": "ipython",
    "version": 3
   },
   "file_extension": ".py",
   "mimetype": "text/x-python",
   "name": "python",
   "nbconvert_exporter": "python",
   "pygments_lexer": "ipython3",
   "version": "3.7.4"
  }
 },
 "nbformat": 4,
 "nbformat_minor": 4
}
