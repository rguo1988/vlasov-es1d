{
 "cells": [
  {
   "cell_type": "code",
   "execution_count": 1,
   "metadata": {},
   "outputs": [],
   "source": [
    "import numpy as np\n",
    "import matplotlib\n",
    "\n",
    "import matplotlib.cm as cm\n",
    "import matplotlib.pyplot as plt\n",
    "import os\n",
    "from scipy.misc import derivative\n",
    "from scipy.integrate import solve_bvp\n",
    "from functools import partial\n",
    "from scipy import special as sp\n",
    "from scipy import stats\n",
    "import plasmapy.mathematics\n",
    "import scipy.optimize as op\n",
    "\n",
    "from scipy import fftpack\n",
    "from scipy import integrate\n",
    "from scipy import signal\n",
    "\n",
    "%config InlineBackend.figure_format = 'svg'"
   ]
  },
  {
   "cell_type": "code",
   "execution_count": 7,
   "metadata": {},
   "outputs": [],
   "source": [
    "tem = 1\n",
    "L = 2.618\n",
    "vmax = 5  # 10 * np.sqrt(tem)\n",
    "nx = 201\n",
    "nv = 101\n",
    "dt = 0.01\n",
    "max_steps  = 5000\n",
    "data_steps = 1000\n",
    "uae = 0.6\n",
    "uai = 0.5\n",
    "kappa = 0.0"
   ]
  },
  {
   "cell_type": "code",
   "execution_count": 8,
   "metadata": {},
   "outputs": [
    {
     "name": "stdout",
     "output_type": "stream",
     "text": [
      "data_num =  6\n"
     ]
    }
   ],
   "source": [
    "dx = L/(nx-1)\n",
    "dv = 2*vmax/(nv-1)\n",
    "x = np.linspace(0, L, num=nx, endpoint=True)\n",
    "v = np.linspace(-vmax, vmax, num=nv, endpoint=True)\n",
    "V, X = np.meshgrid(v, x)\n",
    "data_num = int(max_steps/data_steps) + 1\n",
    "path = '../data/'\n",
    "\n",
    "m=1\n",
    "n=1\n",
    "q=1\n",
    "v_th = np.sqrt(2*tem)\n",
    "l_D = np.sqrt( tem) # $\\lambda_D^2$\n",
    "w_pe = 1\n",
    "print(\"data_num = \",data_num)"
   ]
  },
  {
   "cell_type": "code",
   "execution_count": 9,
   "metadata": {
    "code_folding": [
     1
    ]
   },
   "outputs": [
    {
     "name": "stdout",
     "output_type": "stream",
     "text": [
      "k =  2.3999943877691314\n",
      "w_r =  3.619200526459669\n",
      "w_i =  -3.732869772435381\n",
      "v_p =  1.5080037457186837\n",
      "t_Bi =  3.16227766016838\n",
      "t_L =  0.26789040629927596\n",
      "limited time= 26.179999999999996\n",
      "real time =  50.0\n"
     ]
    }
   ],
   "source": [
    "k = 1*2*np.pi/L\n",
    "def eq4PDRM(w,k):\n",
    "    wr,wi=w\n",
    "    wc=complex(wr,wi)\n",
    "    zeta = wc / k /v_th\n",
    "    r = 1 + 1 / k**2 / l_D**2 * ( 1 + zeta*plasmapy.mathematics.plasma_dispersion_func(zeta) )\n",
    "    return [r.real,r.imag]\n",
    "#kvec = np.arange(.1,1.2,0.1)\n",
    "print(\"k = \",k)\n",
    "s=op.root(lambda w:eq4PDRM(w,k),[1,0.1])\n",
    "v_p = s.x[0]/k\n",
    "print(\"w_r = \",s.x[0])\n",
    "print(\"w_i = \",s.x[1])\n",
    "print(\"v_p = \",v_p)\n",
    "print(\"t_Bi = \", abs(1/np.sqrt(q*abs(uae-uai))))\n",
    "#print(\"t_Bf = \", abs(1/np.sqrt(q*abs(ff(L/2)-uai))))\n",
    "print(\"t_L = \", abs(1/s.x[1]))\n",
    "print('limited time=',2*np.pi/k/dv)\n",
    "print('real time = ', max_steps*dt)"
   ]
  },
  {
   "cell_type": "markdown",
   "metadata": {},
   "source": [
    "## 理论预测"
   ]
  },
  {
   "cell_type": "code",
   "execution_count": 10,
   "metadata": {
    "code_folding": [
     0,
     3,
     13,
     16,
     25,
     36,
     49,
     53,
     57,
     65,
     71,
     76,
     78,
     80,
     83,
     86,
     88,
     91,
     94,
     96,
     99
    ]
   },
   "outputs": [
    {
     "name": "stdout",
     "output_type": "stream",
     "text": [
      "Ek =  0.5\n",
      "Ep =  0.0004340298076716412\n",
      "Etot =  0.5004340298076716\n",
      "0.1271473851387226\n"
     ]
    }
   ],
   "source": [
    "def fm(v, t):\n",
    "    r = np.sqrt(1./(2.*np.pi*t))*np.exp(-v**2/(2*t))\n",
    "    return r\n",
    "def fk(v, t, kappa):\n",
    "    if(kappa == 0):\n",
    "        r = fm(v, t)\n",
    "    else:\n",
    "        r = np.sqrt(m/(2.*np.pi*t*kappa)) * sp.gamma(kappa+1.5) / \\\n",
    "            sp.gamma(kappa+1) * (1 + m*v**2 / kappa / 2 / t) ** (-kappa-1.5)\n",
    "    return r\n",
    "def ue(x):\n",
    "    r = 1.+uae*np.cos(k*x)\n",
    "    return r\n",
    "def ui(x):\n",
    "    r = 1.+uai*np.cos(k*x)\n",
    "    return r\n",
    "def fkt(v, x, kappa):\n",
    "    t = tem*ue(x)\n",
    "    if(kappa == 0):\n",
    "        r = fm(v, t)\n",
    "    else:\n",
    "        r = np.sqrt(m/(2.*np.pi*t*kappa)) * sp.gamma(kappa+1.5) / \\\n",
    "            sp.gamma(kappa+1) * (1 + m*v**2 / kappa / 2 / t) ** (-kappa-1.5)\n",
    "    return r\n",
    "#theoretical energy\n",
    "def nphi(x):\n",
    "    #average potential (/L)\n",
    "    phi = -( q*(uae-uai) )/ (k**2)*np.cos(k*x)/L\n",
    "    return (ui(x)-ue(x) )*q*phi\n",
    "ek_theo = 0.5*tem\n",
    "ep_theo = 0.5*integrate.quad(nphi,0,L)[0]\n",
    "einit_theo=ek_theo+ep_theo\n",
    "\n",
    "print(\"Ek = \",ek_theo)\n",
    "print(\"Ep = \",ep_theo)\n",
    "print(\"Etot = \",einit_theo)\n",
    "def entropy(x,v):\n",
    "    ufv = fk(v, tem,kappa)*ue(x)/L\n",
    "    if (ufv==0.0):\n",
    "        r = 0.0\n",
    "    else:\n",
    "        r = -ufv * np.log(ufv)\n",
    "    r = ufv**2\n",
    "    return r\n",
    "options = {'limit':50000}\n",
    "entropyt_int_res = integrate.nquad(entropy,[[0,L],[-np.inf,np.inf]], opts=[options,options])\n",
    "#entropyt_int_res = integrate.nquad(entropy,[[0,L],[-vmax,vmax]], opts=[options,options])\n",
    "entropyt=entropyt_int_res[0]\n",
    "print(entropyt)\n",
    "def ug(x):\n",
    "    r = (1. + uai * np.cos(k*x)) #/ (2*1.*a)\n",
    "    return r\n",
    "\n",
    "def ug_dev(x):\n",
    "    r = -uai*k*np.sin(k*x)#/ 2. / a\n",
    "    return r\n",
    "\n",
    "def eq4U(x,yy,p):\n",
    "    kappa,t=p\n",
    "    dy, y = yy\n",
    "    k_factor = (kappa+2) / (kappa+1)\n",
    "    dy2y = (dy**2) / y\n",
    "    ddy = k_factor * dy2y + (kappa+1) / (kappa) * (y**k_factor) * ( y-ui(x) ) / t * n * (q**2)\n",
    "    return np.vstack((ddy, dy))\n",
    "\n",
    "def bc4U(ya, yb):\n",
    "    return np.array([ya[0]-yb[0],ya[1]-yb[1]])\n",
    "\n",
    "xi = np.linspace(0, L, num=5000, dtype='complex',endpoint=False)\n",
    "yguess = np.array([ug_dev(xi), ui(xi)])\n",
    "\n",
    "def eq4para(x,energy,entropy):\n",
    "    kp,tp = x\n",
    "    sol4ode = solve_bvp(partial(eq4U, p=x), bc4U, xi,\n",
    "                        yguess, tol=1e-13, max_nodes=50000)\n",
    "\n",
    "    def ff(x):\n",
    "        return sol4ode.sol(x)[1]\n",
    "    def ff_r(x):\n",
    "        return ff(x).real\n",
    "    def ff_i(x):\n",
    "        return ff(x).imag\n",
    "\n",
    "    def ff_inti(x):\n",
    "        r = ff(x)**(kp/(kp+1))\n",
    "        return r\n",
    "    def ff_inti_r(x):\n",
    "        return ff_inti(x).real\n",
    "    def ff_inti_i(x):\n",
    "        return ff_inti(x).imag\n",
    "        \n",
    "    def ff_intii(x):\n",
    "        r = ui(x) * (ff(x) ** (-1.0/(kp+1)))\n",
    "        return r\n",
    "    def ff_intii_r(x):\n",
    "        return ff_intii(x).real\n",
    "    def ff_intii_i(x):\n",
    "        return ff_intii(x).imag\n",
    "    \n",
    "    def ff_intiii(x):\n",
    "        r = ff(x)**(-1./(kp+1))\n",
    "        return r\n",
    "    def ff_intiii_r(x):\n",
    "        return ff_intiii(x).real\n",
    "    def ff_intiii_i(x):\n",
    "        return ff_intiii(x).imag\n",
    "    \n",
    "    def entropy_pred(x, v):\n",
    "        U_x = ff(x)\n",
    "        \n",
    "        if(kp==0):\n",
    "            t_x = tp\n",
    "            tempf = U_x * fm(v, t_x)/L+0j\n",
    "        else:\n",
    "            t_x = tp * U_x ** (-1./(kp+1))\n",
    "            tempf = U_x * fk(v, t_x, kp)/L+0j\n",
    "        if (tempf == 0.0+0.0j):\n",
    "            r = 0.0\n",
    "        else:\n",
    "            r = -tempf * np.log(tempf)\n",
    "        r = tempf**2\n",
    "        return r\n",
    "    def entropy_pred_r(x,v):\n",
    "        return entropy_pred(x,v).real\n",
    "    def entropy_pred_i(x,v):\n",
    "        return entropy_pred(x,v).imag\n",
    "    entropy_pred_int_r = integrate.dblquad(\n",
    "        entropy_pred_r, -vmax, vmax,  0,  L, epsrel=1e-10)\n",
    "    entropy_pred_int_i = integrate.dblquad(\n",
    "        entropy_pred_i, -vmax, vmax,  0,  L, epsrel=1e-10)\n",
    "    entropyp = entropy_pred_int_r[0] + 1j * entropy_pred_int_i[0]\n",
    "\n",
    "    int_ff_r = integrate.quad(ff_r, 0, L, epsrel=1e-10)[0]-1.0\n",
    "    int_ff_i = integrate.quad(ff_i, 0, L, epsrel=1e-10)[0]-1.0\n",
    "    int_ff = int_ff_r + 1j * int_ff_i\n",
    "    \n",
    "    int_i_r = integrate.quad(ff_inti_r, 0, L, epsrel=1e-10)[0]\n",
    "    int_i_i = integrate.quad(ff_inti_i, 0, L, epsrel=1e-10)[0]\n",
    "    int_i = int_i_r + 1j * int_i_i\n",
    "\n",
    "    int_ii_r = integrate.quad(ff_intii_r, 0, L, epsrel=1e-10)[0]\n",
    "    int_ii_i = integrate.quad(ff_intii_i, 0, L, epsrel=1e-10)[0]\n",
    "    int_ii = int_ii_r + 1j * int_ii_i\n",
    "\n",
    "    int_iii_r = integrate.quad(ff_intiii_r, 0, L, epsrel=1e-10)[0]\n",
    "    int_iii_i = integrate.quad(ff_intiii_i, 0, L, epsrel=1e-10)[0] \n",
    "    int_iii = (int_iii_r + 1j * int_iii_i) * int_ff\n",
    "\n",
    "    eq1 = ((energy*2)*L - tp * (1+kp) * int_i + tp * kp * int_ii)/(energy*2)/L\n",
    "    eq2 = (entropyp-entropy)/entropy\n",
    "\n",
    "    return eq1.real,eq2.real"
   ]
  },
  {
   "cell_type": "code",
   "execution_count": 14,
   "metadata": {},
   "outputs": [
    {
     "name": "stderr",
     "output_type": "stream",
     "text": [
      "c:\\users\\rguo\\appdata\\local\\programs\\python\\python37\\lib\\site-packages\\scipy\\integrate\\quadpack.py:881: IntegrationWarning: The integral is probably divergent, or slowly convergent.\n",
      "  **opt)\n"
     ]
    },
    {
     "ename": "KeyboardInterrupt",
     "evalue": "",
     "output_type": "error",
     "traceback": [
      "\u001b[1;31m---------------------------------------------------------------------------\u001b[0m",
      "\u001b[1;31mKeyboardInterrupt\u001b[0m                         Traceback (most recent call last)",
      "\u001b[1;32m<ipython-input-14-bbd971cf003b>\u001b[0m in \u001b[0;36m<module>\u001b[1;34m\u001b[0m\n\u001b[0;32m      2\u001b[0m \u001b[0mpara_guess\u001b[0m \u001b[1;33m=\u001b[0m \u001b[1;33m[\u001b[0m\u001b[1;36m3.20396257\u001b[0m\u001b[1;33m,\u001b[0m\u001b[1;36m1.02909498\u001b[0m\u001b[1;33m]\u001b[0m\u001b[1;33m\u001b[0m\u001b[1;33m\u001b[0m\u001b[0m\n\u001b[0;32m      3\u001b[0m \u001b[1;31m#para_guess = [0.014708099,28.3689694]\u001b[0m\u001b[1;33m\u001b[0m\u001b[1;33m\u001b[0m\u001b[1;33m\u001b[0m\u001b[0m\n\u001b[1;32m----> 4\u001b[1;33m \u001b[0msol_para\u001b[0m \u001b[1;33m=\u001b[0m \u001b[0mop\u001b[0m\u001b[1;33m.\u001b[0m\u001b[0mroot\u001b[0m\u001b[1;33m(\u001b[0m\u001b[0mpartial\u001b[0m\u001b[1;33m(\u001b[0m\u001b[0meq4para\u001b[0m\u001b[1;33m,\u001b[0m\u001b[0menergy\u001b[0m\u001b[1;33m=\u001b[0m\u001b[0meinit_theo\u001b[0m\u001b[1;33m,\u001b[0m\u001b[0mentropy\u001b[0m\u001b[1;33m=\u001b[0m\u001b[0mentropyt\u001b[0m\u001b[1;33m)\u001b[0m\u001b[1;33m,\u001b[0m \u001b[0mpara_guess\u001b[0m\u001b[1;33m,\u001b[0m \u001b[0mmethod\u001b[0m\u001b[1;33m=\u001b[0m\u001b[1;34m'lm'\u001b[0m\u001b[1;33m)\u001b[0m\u001b[1;33m\u001b[0m\u001b[1;33m\u001b[0m\u001b[0m\n\u001b[0m\u001b[0;32m      5\u001b[0m \u001b[1;31m#sol_para = op.root(partial(eq4para,energy=einit_theo,entropy=entropy_sim), para_guess, method='hybr')\u001b[0m\u001b[1;33m\u001b[0m\u001b[1;33m\u001b[0m\u001b[1;33m\u001b[0m\u001b[0m\n\u001b[0;32m      6\u001b[0m \u001b[0mpara\u001b[0m \u001b[1;33m=\u001b[0m \u001b[0msol_para\u001b[0m\u001b[1;33m.\u001b[0m\u001b[0mx\u001b[0m\u001b[1;33m\u001b[0m\u001b[1;33m\u001b[0m\u001b[0m\n",
      "\u001b[1;32mc:\\users\\rguo\\appdata\\local\\programs\\python\\python37\\lib\\site-packages\\scipy\\optimize\\_root.py\u001b[0m in \u001b[0;36mroot\u001b[1;34m(fun, x0, args, method, jac, tol, callback, options)\u001b[0m\n\u001b[0;32m    184\u001b[0m         \u001b[0msol\u001b[0m \u001b[1;33m=\u001b[0m \u001b[0m_root_hybr\u001b[0m\u001b[1;33m(\u001b[0m\u001b[0mfun\u001b[0m\u001b[1;33m,\u001b[0m \u001b[0mx0\u001b[0m\u001b[1;33m,\u001b[0m \u001b[0margs\u001b[0m\u001b[1;33m=\u001b[0m\u001b[0margs\u001b[0m\u001b[1;33m,\u001b[0m \u001b[0mjac\u001b[0m\u001b[1;33m=\u001b[0m\u001b[0mjac\u001b[0m\u001b[1;33m,\u001b[0m \u001b[1;33m**\u001b[0m\u001b[0moptions\u001b[0m\u001b[1;33m)\u001b[0m\u001b[1;33m\u001b[0m\u001b[1;33m\u001b[0m\u001b[0m\n\u001b[0;32m    185\u001b[0m     \u001b[1;32melif\u001b[0m \u001b[0mmeth\u001b[0m \u001b[1;33m==\u001b[0m \u001b[1;34m'lm'\u001b[0m\u001b[1;33m:\u001b[0m\u001b[1;33m\u001b[0m\u001b[1;33m\u001b[0m\u001b[0m\n\u001b[1;32m--> 186\u001b[1;33m         \u001b[0msol\u001b[0m \u001b[1;33m=\u001b[0m \u001b[0m_root_leastsq\u001b[0m\u001b[1;33m(\u001b[0m\u001b[0mfun\u001b[0m\u001b[1;33m,\u001b[0m \u001b[0mx0\u001b[0m\u001b[1;33m,\u001b[0m \u001b[0margs\u001b[0m\u001b[1;33m=\u001b[0m\u001b[0margs\u001b[0m\u001b[1;33m,\u001b[0m \u001b[0mjac\u001b[0m\u001b[1;33m=\u001b[0m\u001b[0mjac\u001b[0m\u001b[1;33m,\u001b[0m \u001b[1;33m**\u001b[0m\u001b[0moptions\u001b[0m\u001b[1;33m)\u001b[0m\u001b[1;33m\u001b[0m\u001b[1;33m\u001b[0m\u001b[0m\n\u001b[0m\u001b[0;32m    187\u001b[0m     \u001b[1;32melif\u001b[0m \u001b[0mmeth\u001b[0m \u001b[1;33m==\u001b[0m \u001b[1;34m'df-sane'\u001b[0m\u001b[1;33m:\u001b[0m\u001b[1;33m\u001b[0m\u001b[1;33m\u001b[0m\u001b[0m\n\u001b[0;32m    188\u001b[0m         \u001b[0m_warn_jac_unused\u001b[0m\u001b[1;33m(\u001b[0m\u001b[0mjac\u001b[0m\u001b[1;33m,\u001b[0m \u001b[0mmethod\u001b[0m\u001b[1;33m)\u001b[0m\u001b[1;33m\u001b[0m\u001b[1;33m\u001b[0m\u001b[0m\n",
      "\u001b[1;32mc:\\users\\rguo\\appdata\\local\\programs\\python\\python37\\lib\\site-packages\\scipy\\optimize\\_root.py\u001b[0m in \u001b[0;36m_root_leastsq\u001b[1;34m(fun, x0, args, jac, col_deriv, xtol, ftol, gtol, maxiter, eps, factor, diag, **unknown_options)\u001b[0m\n\u001b[0;32m    247\u001b[0m                                        \u001b[0mftol\u001b[0m\u001b[1;33m=\u001b[0m\u001b[0mftol\u001b[0m\u001b[1;33m,\u001b[0m \u001b[0mgtol\u001b[0m\u001b[1;33m=\u001b[0m\u001b[0mgtol\u001b[0m\u001b[1;33m,\u001b[0m\u001b[1;33m\u001b[0m\u001b[1;33m\u001b[0m\u001b[0m\n\u001b[0;32m    248\u001b[0m                                        \u001b[0mmaxfev\u001b[0m\u001b[1;33m=\u001b[0m\u001b[0mmaxiter\u001b[0m\u001b[1;33m,\u001b[0m \u001b[0mepsfcn\u001b[0m\u001b[1;33m=\u001b[0m\u001b[0meps\u001b[0m\u001b[1;33m,\u001b[0m\u001b[1;33m\u001b[0m\u001b[1;33m\u001b[0m\u001b[0m\n\u001b[1;32m--> 249\u001b[1;33m                                        factor=factor, diag=diag)\n\u001b[0m\u001b[0;32m    250\u001b[0m     sol = OptimizeResult(x=x, message=msg, status=ier,\n\u001b[0;32m    251\u001b[0m                          \u001b[0msuccess\u001b[0m\u001b[1;33m=\u001b[0m\u001b[0mier\u001b[0m \u001b[1;32min\u001b[0m \u001b[1;33m(\u001b[0m\u001b[1;36m1\u001b[0m\u001b[1;33m,\u001b[0m \u001b[1;36m2\u001b[0m\u001b[1;33m,\u001b[0m \u001b[1;36m3\u001b[0m\u001b[1;33m,\u001b[0m \u001b[1;36m4\u001b[0m\u001b[1;33m)\u001b[0m\u001b[1;33m,\u001b[0m \u001b[0mcov_x\u001b[0m\u001b[1;33m=\u001b[0m\u001b[0mcov_x\u001b[0m\u001b[1;33m,\u001b[0m\u001b[1;33m\u001b[0m\u001b[1;33m\u001b[0m\u001b[0m\n",
      "\u001b[1;32mc:\\users\\rguo\\appdata\\local\\programs\\python\\python37\\lib\\site-packages\\scipy\\optimize\\minpack.py\u001b[0m in \u001b[0;36mleastsq\u001b[1;34m(func, x0, args, Dfun, full_output, col_deriv, ftol, xtol, gtol, maxfev, epsfcn, factor, diag)\u001b[0m\n\u001b[0;32m    408\u001b[0m     \u001b[1;32mif\u001b[0m \u001b[1;32mnot\u001b[0m \u001b[0misinstance\u001b[0m\u001b[1;33m(\u001b[0m\u001b[0margs\u001b[0m\u001b[1;33m,\u001b[0m \u001b[0mtuple\u001b[0m\u001b[1;33m)\u001b[0m\u001b[1;33m:\u001b[0m\u001b[1;33m\u001b[0m\u001b[1;33m\u001b[0m\u001b[0m\n\u001b[0;32m    409\u001b[0m         \u001b[0margs\u001b[0m \u001b[1;33m=\u001b[0m \u001b[1;33m(\u001b[0m\u001b[0margs\u001b[0m\u001b[1;33m,\u001b[0m\u001b[1;33m)\u001b[0m\u001b[1;33m\u001b[0m\u001b[1;33m\u001b[0m\u001b[0m\n\u001b[1;32m--> 410\u001b[1;33m     \u001b[0mshape\u001b[0m\u001b[1;33m,\u001b[0m \u001b[0mdtype\u001b[0m \u001b[1;33m=\u001b[0m \u001b[0m_check_func\u001b[0m\u001b[1;33m(\u001b[0m\u001b[1;34m'leastsq'\u001b[0m\u001b[1;33m,\u001b[0m \u001b[1;34m'func'\u001b[0m\u001b[1;33m,\u001b[0m \u001b[0mfunc\u001b[0m\u001b[1;33m,\u001b[0m \u001b[0mx0\u001b[0m\u001b[1;33m,\u001b[0m \u001b[0margs\u001b[0m\u001b[1;33m,\u001b[0m \u001b[0mn\u001b[0m\u001b[1;33m)\u001b[0m\u001b[1;33m\u001b[0m\u001b[1;33m\u001b[0m\u001b[0m\n\u001b[0m\u001b[0;32m    411\u001b[0m     \u001b[0mm\u001b[0m \u001b[1;33m=\u001b[0m \u001b[0mshape\u001b[0m\u001b[1;33m[\u001b[0m\u001b[1;36m0\u001b[0m\u001b[1;33m]\u001b[0m\u001b[1;33m\u001b[0m\u001b[1;33m\u001b[0m\u001b[0m\n\u001b[0;32m    412\u001b[0m \u001b[1;33m\u001b[0m\u001b[0m\n",
      "\u001b[1;32mc:\\users\\rguo\\appdata\\local\\programs\\python\\python37\\lib\\site-packages\\scipy\\optimize\\minpack.py\u001b[0m in \u001b[0;36m_check_func\u001b[1;34m(checker, argname, thefunc, x0, args, numinputs, output_shape)\u001b[0m\n\u001b[0;32m     22\u001b[0m def _check_func(checker, argname, thefunc, x0, args, numinputs,\n\u001b[0;32m     23\u001b[0m                 output_shape=None):\n\u001b[1;32m---> 24\u001b[1;33m     \u001b[0mres\u001b[0m \u001b[1;33m=\u001b[0m \u001b[0matleast_1d\u001b[0m\u001b[1;33m(\u001b[0m\u001b[0mthefunc\u001b[0m\u001b[1;33m(\u001b[0m\u001b[1;33m*\u001b[0m\u001b[1;33m(\u001b[0m\u001b[1;33m(\u001b[0m\u001b[0mx0\u001b[0m\u001b[1;33m[\u001b[0m\u001b[1;33m:\u001b[0m\u001b[0mnuminputs\u001b[0m\u001b[1;33m]\u001b[0m\u001b[1;33m,\u001b[0m\u001b[1;33m)\u001b[0m \u001b[1;33m+\u001b[0m \u001b[0margs\u001b[0m\u001b[1;33m)\u001b[0m\u001b[1;33m)\u001b[0m\u001b[1;33m)\u001b[0m\u001b[1;33m\u001b[0m\u001b[1;33m\u001b[0m\u001b[0m\n\u001b[0m\u001b[0;32m     25\u001b[0m     \u001b[1;32mif\u001b[0m \u001b[1;33m(\u001b[0m\u001b[0moutput_shape\u001b[0m \u001b[1;32mis\u001b[0m \u001b[1;32mnot\u001b[0m \u001b[1;32mNone\u001b[0m\u001b[1;33m)\u001b[0m \u001b[1;32mand\u001b[0m \u001b[1;33m(\u001b[0m\u001b[0mshape\u001b[0m\u001b[1;33m(\u001b[0m\u001b[0mres\u001b[0m\u001b[1;33m)\u001b[0m \u001b[1;33m!=\u001b[0m \u001b[0moutput_shape\u001b[0m\u001b[1;33m)\u001b[0m\u001b[1;33m:\u001b[0m\u001b[1;33m\u001b[0m\u001b[1;33m\u001b[0m\u001b[0m\n\u001b[0;32m     26\u001b[0m         \u001b[1;32mif\u001b[0m \u001b[1;33m(\u001b[0m\u001b[0moutput_shape\u001b[0m\u001b[1;33m[\u001b[0m\u001b[1;36m0\u001b[0m\u001b[1;33m]\u001b[0m \u001b[1;33m!=\u001b[0m \u001b[1;36m1\u001b[0m\u001b[1;33m)\u001b[0m\u001b[1;33m:\u001b[0m\u001b[1;33m\u001b[0m\u001b[1;33m\u001b[0m\u001b[0m\n",
      "\u001b[1;32m<ipython-input-10-ca0b1e69f67a>\u001b[0m in \u001b[0;36meq4para\u001b[1;34m(x, energy, entropy)\u001b[0m\n\u001b[0;32m    126\u001b[0m         \u001b[1;32mreturn\u001b[0m \u001b[0mentropy_pred\u001b[0m\u001b[1;33m(\u001b[0m\u001b[0mx\u001b[0m\u001b[1;33m,\u001b[0m\u001b[0mv\u001b[0m\u001b[1;33m)\u001b[0m\u001b[1;33m.\u001b[0m\u001b[0mimag\u001b[0m\u001b[1;33m\u001b[0m\u001b[1;33m\u001b[0m\u001b[0m\n\u001b[0;32m    127\u001b[0m     entropy_pred_int_r = integrate.dblquad(\n\u001b[1;32m--> 128\u001b[1;33m         entropy_pred_r, -vmax, vmax,  0,  L, epsrel=1e-10)\n\u001b[0m\u001b[0;32m    129\u001b[0m     entropy_pred_int_i = integrate.dblquad(\n\u001b[0;32m    130\u001b[0m         entropy_pred_i, -vmax, vmax,  0,  L, epsrel=1e-10)\n",
      "\u001b[1;32mc:\\users\\rguo\\appdata\\local\\programs\\python\\python37\\lib\\site-packages\\scipy\\integrate\\quadpack.py\u001b[0m in \u001b[0;36mdblquad\u001b[1;34m(func, a, b, gfun, hfun, args, epsabs, epsrel)\u001b[0m\n\u001b[0;32m    600\u001b[0m \u001b[1;33m\u001b[0m\u001b[0m\n\u001b[0;32m    601\u001b[0m     return nquad(func, [temp_ranges, [a, b]], args=args,\n\u001b[1;32m--> 602\u001b[1;33m             opts={\"epsabs\": epsabs, \"epsrel\": epsrel})\n\u001b[0m\u001b[0;32m    603\u001b[0m \u001b[1;33m\u001b[0m\u001b[0m\n\u001b[0;32m    604\u001b[0m \u001b[1;33m\u001b[0m\u001b[0m\n",
      "\u001b[1;32mc:\\users\\rguo\\appdata\\local\\programs\\python\\python37\\lib\\site-packages\\scipy\\integrate\\quadpack.py\u001b[0m in \u001b[0;36mnquad\u001b[1;34m(func, ranges, args, opts, full_output)\u001b[0m\n\u001b[0;32m    824\u001b[0m     \u001b[1;32melse\u001b[0m\u001b[1;33m:\u001b[0m\u001b[1;33m\u001b[0m\u001b[1;33m\u001b[0m\u001b[0m\n\u001b[0;32m    825\u001b[0m         \u001b[0mopts\u001b[0m \u001b[1;33m=\u001b[0m \u001b[1;33m[\u001b[0m\u001b[0mopt\u001b[0m \u001b[1;32mif\u001b[0m \u001b[0mcallable\u001b[0m\u001b[1;33m(\u001b[0m\u001b[0mopt\u001b[0m\u001b[1;33m)\u001b[0m \u001b[1;32melse\u001b[0m \u001b[0m_OptFunc\u001b[0m\u001b[1;33m(\u001b[0m\u001b[0mopt\u001b[0m\u001b[1;33m)\u001b[0m \u001b[1;32mfor\u001b[0m \u001b[0mopt\u001b[0m \u001b[1;32min\u001b[0m \u001b[0mopts\u001b[0m\u001b[1;33m]\u001b[0m\u001b[1;33m\u001b[0m\u001b[1;33m\u001b[0m\u001b[0m\n\u001b[1;32m--> 826\u001b[1;33m     \u001b[1;32mreturn\u001b[0m \u001b[0m_NQuad\u001b[0m\u001b[1;33m(\u001b[0m\u001b[0mfunc\u001b[0m\u001b[1;33m,\u001b[0m \u001b[0mranges\u001b[0m\u001b[1;33m,\u001b[0m \u001b[0mopts\u001b[0m\u001b[1;33m,\u001b[0m \u001b[0mfull_output\u001b[0m\u001b[1;33m)\u001b[0m\u001b[1;33m.\u001b[0m\u001b[0mintegrate\u001b[0m\u001b[1;33m(\u001b[0m\u001b[1;33m*\u001b[0m\u001b[0margs\u001b[0m\u001b[1;33m)\u001b[0m\u001b[1;33m\u001b[0m\u001b[1;33m\u001b[0m\u001b[0m\n\u001b[0m\u001b[0;32m    827\u001b[0m \u001b[1;33m\u001b[0m\u001b[0m\n\u001b[0;32m    828\u001b[0m \u001b[1;33m\u001b[0m\u001b[0m\n",
      "\u001b[1;32mc:\\users\\rguo\\appdata\\local\\programs\\python\\python37\\lib\\site-packages\\scipy\\integrate\\quadpack.py\u001b[0m in \u001b[0;36mintegrate\u001b[1;34m(self, *args, **kwargs)\u001b[0m\n\u001b[0;32m    879\u001b[0m             \u001b[0mf\u001b[0m \u001b[1;33m=\u001b[0m \u001b[0mpartial\u001b[0m\u001b[1;33m(\u001b[0m\u001b[0mself\u001b[0m\u001b[1;33m.\u001b[0m\u001b[0mintegrate\u001b[0m\u001b[1;33m,\u001b[0m \u001b[0mdepth\u001b[0m\u001b[1;33m=\u001b[0m\u001b[0mdepth\u001b[0m\u001b[1;33m+\u001b[0m\u001b[1;36m1\u001b[0m\u001b[1;33m)\u001b[0m\u001b[1;33m\u001b[0m\u001b[1;33m\u001b[0m\u001b[0m\n\u001b[0;32m    880\u001b[0m         quad_r = quad(f, low, high, args=args, full_output=self.full_output,\n\u001b[1;32m--> 881\u001b[1;33m                       **opt)\n\u001b[0m\u001b[0;32m    882\u001b[0m         \u001b[0mvalue\u001b[0m \u001b[1;33m=\u001b[0m \u001b[0mquad_r\u001b[0m\u001b[1;33m[\u001b[0m\u001b[1;36m0\u001b[0m\u001b[1;33m]\u001b[0m\u001b[1;33m\u001b[0m\u001b[1;33m\u001b[0m\u001b[0m\n\u001b[0;32m    883\u001b[0m         \u001b[0mabserr\u001b[0m \u001b[1;33m=\u001b[0m \u001b[0mquad_r\u001b[0m\u001b[1;33m[\u001b[0m\u001b[1;36m1\u001b[0m\u001b[1;33m]\u001b[0m\u001b[1;33m\u001b[0m\u001b[1;33m\u001b[0m\u001b[0m\n",
      "\u001b[1;32mc:\\users\\rguo\\appdata\\local\\programs\\python\\python37\\lib\\site-packages\\scipy\\integrate\\quadpack.py\u001b[0m in \u001b[0;36mquad\u001b[1;34m(func, a, b, args, full_output, epsabs, epsrel, limit, points, weight, wvar, wopts, maxp1, limlst)\u001b[0m\n\u001b[0;32m    350\u001b[0m     \u001b[1;32mif\u001b[0m \u001b[0mweight\u001b[0m \u001b[1;32mis\u001b[0m \u001b[1;32mNone\u001b[0m\u001b[1;33m:\u001b[0m\u001b[1;33m\u001b[0m\u001b[1;33m\u001b[0m\u001b[0m\n\u001b[0;32m    351\u001b[0m         retval = _quad(func, a, b, args, full_output, epsabs, epsrel, limit,\n\u001b[1;32m--> 352\u001b[1;33m                        points)\n\u001b[0m\u001b[0;32m    353\u001b[0m     \u001b[1;32melse\u001b[0m\u001b[1;33m:\u001b[0m\u001b[1;33m\u001b[0m\u001b[1;33m\u001b[0m\u001b[0m\n\u001b[0;32m    354\u001b[0m         \u001b[1;32mif\u001b[0m \u001b[0mpoints\u001b[0m \u001b[1;32mis\u001b[0m \u001b[1;32mnot\u001b[0m \u001b[1;32mNone\u001b[0m\u001b[1;33m:\u001b[0m\u001b[1;33m\u001b[0m\u001b[1;33m\u001b[0m\u001b[0m\n",
      "\u001b[1;32mc:\\users\\rguo\\appdata\\local\\programs\\python\\python37\\lib\\site-packages\\scipy\\integrate\\quadpack.py\u001b[0m in \u001b[0;36m_quad\u001b[1;34m(func, a, b, args, full_output, epsabs, epsrel, limit, points)\u001b[0m\n\u001b[0;32m    461\u001b[0m     \u001b[1;32mif\u001b[0m \u001b[0mpoints\u001b[0m \u001b[1;32mis\u001b[0m \u001b[1;32mNone\u001b[0m\u001b[1;33m:\u001b[0m\u001b[1;33m\u001b[0m\u001b[1;33m\u001b[0m\u001b[0m\n\u001b[0;32m    462\u001b[0m         \u001b[1;32mif\u001b[0m \u001b[0minfbounds\u001b[0m \u001b[1;33m==\u001b[0m \u001b[1;36m0\u001b[0m\u001b[1;33m:\u001b[0m\u001b[1;33m\u001b[0m\u001b[1;33m\u001b[0m\u001b[0m\n\u001b[1;32m--> 463\u001b[1;33m             \u001b[1;32mreturn\u001b[0m \u001b[0m_quadpack\u001b[0m\u001b[1;33m.\u001b[0m\u001b[0m_qagse\u001b[0m\u001b[1;33m(\u001b[0m\u001b[0mfunc\u001b[0m\u001b[1;33m,\u001b[0m\u001b[0ma\u001b[0m\u001b[1;33m,\u001b[0m\u001b[0mb\u001b[0m\u001b[1;33m,\u001b[0m\u001b[0margs\u001b[0m\u001b[1;33m,\u001b[0m\u001b[0mfull_output\u001b[0m\u001b[1;33m,\u001b[0m\u001b[0mepsabs\u001b[0m\u001b[1;33m,\u001b[0m\u001b[0mepsrel\u001b[0m\u001b[1;33m,\u001b[0m\u001b[0mlimit\u001b[0m\u001b[1;33m)\u001b[0m\u001b[1;33m\u001b[0m\u001b[1;33m\u001b[0m\u001b[0m\n\u001b[0m\u001b[0;32m    464\u001b[0m         \u001b[1;32melse\u001b[0m\u001b[1;33m:\u001b[0m\u001b[1;33m\u001b[0m\u001b[1;33m\u001b[0m\u001b[0m\n\u001b[0;32m    465\u001b[0m             \u001b[1;32mreturn\u001b[0m \u001b[0m_quadpack\u001b[0m\u001b[1;33m.\u001b[0m\u001b[0m_qagie\u001b[0m\u001b[1;33m(\u001b[0m\u001b[0mfunc\u001b[0m\u001b[1;33m,\u001b[0m\u001b[0mbound\u001b[0m\u001b[1;33m,\u001b[0m\u001b[0minfbounds\u001b[0m\u001b[1;33m,\u001b[0m\u001b[0margs\u001b[0m\u001b[1;33m,\u001b[0m\u001b[0mfull_output\u001b[0m\u001b[1;33m,\u001b[0m\u001b[0mepsabs\u001b[0m\u001b[1;33m,\u001b[0m\u001b[0mepsrel\u001b[0m\u001b[1;33m,\u001b[0m\u001b[0mlimit\u001b[0m\u001b[1;33m)\u001b[0m\u001b[1;33m\u001b[0m\u001b[1;33m\u001b[0m\u001b[0m\n",
      "\u001b[1;32mc:\\users\\rguo\\appdata\\local\\programs\\python\\python37\\lib\\site-packages\\scipy\\integrate\\quadpack.py\u001b[0m in \u001b[0;36mintegrate\u001b[1;34m(self, *args, **kwargs)\u001b[0m\n\u001b[0;32m    879\u001b[0m             \u001b[0mf\u001b[0m \u001b[1;33m=\u001b[0m \u001b[0mpartial\u001b[0m\u001b[1;33m(\u001b[0m\u001b[0mself\u001b[0m\u001b[1;33m.\u001b[0m\u001b[0mintegrate\u001b[0m\u001b[1;33m,\u001b[0m \u001b[0mdepth\u001b[0m\u001b[1;33m=\u001b[0m\u001b[0mdepth\u001b[0m\u001b[1;33m+\u001b[0m\u001b[1;36m1\u001b[0m\u001b[1;33m)\u001b[0m\u001b[1;33m\u001b[0m\u001b[1;33m\u001b[0m\u001b[0m\n\u001b[0;32m    880\u001b[0m         quad_r = quad(f, low, high, args=args, full_output=self.full_output,\n\u001b[1;32m--> 881\u001b[1;33m                       **opt)\n\u001b[0m\u001b[0;32m    882\u001b[0m         \u001b[0mvalue\u001b[0m \u001b[1;33m=\u001b[0m \u001b[0mquad_r\u001b[0m\u001b[1;33m[\u001b[0m\u001b[1;36m0\u001b[0m\u001b[1;33m]\u001b[0m\u001b[1;33m\u001b[0m\u001b[1;33m\u001b[0m\u001b[0m\n\u001b[0;32m    883\u001b[0m         \u001b[0mabserr\u001b[0m \u001b[1;33m=\u001b[0m \u001b[0mquad_r\u001b[0m\u001b[1;33m[\u001b[0m\u001b[1;36m1\u001b[0m\u001b[1;33m]\u001b[0m\u001b[1;33m\u001b[0m\u001b[1;33m\u001b[0m\u001b[0m\n",
      "\u001b[1;32mc:\\users\\rguo\\appdata\\local\\programs\\python\\python37\\lib\\site-packages\\scipy\\integrate\\quadpack.py\u001b[0m in \u001b[0;36mquad\u001b[1;34m(func, a, b, args, full_output, epsabs, epsrel, limit, points, weight, wvar, wopts, maxp1, limlst)\u001b[0m\n\u001b[0;32m    350\u001b[0m     \u001b[1;32mif\u001b[0m \u001b[0mweight\u001b[0m \u001b[1;32mis\u001b[0m \u001b[1;32mNone\u001b[0m\u001b[1;33m:\u001b[0m\u001b[1;33m\u001b[0m\u001b[1;33m\u001b[0m\u001b[0m\n\u001b[0;32m    351\u001b[0m         retval = _quad(func, a, b, args, full_output, epsabs, epsrel, limit,\n\u001b[1;32m--> 352\u001b[1;33m                        points)\n\u001b[0m\u001b[0;32m    353\u001b[0m     \u001b[1;32melse\u001b[0m\u001b[1;33m:\u001b[0m\u001b[1;33m\u001b[0m\u001b[1;33m\u001b[0m\u001b[0m\n\u001b[0;32m    354\u001b[0m         \u001b[1;32mif\u001b[0m \u001b[0mpoints\u001b[0m \u001b[1;32mis\u001b[0m \u001b[1;32mnot\u001b[0m \u001b[1;32mNone\u001b[0m\u001b[1;33m:\u001b[0m\u001b[1;33m\u001b[0m\u001b[1;33m\u001b[0m\u001b[0m\n",
      "\u001b[1;32mc:\\users\\rguo\\appdata\\local\\programs\\python\\python37\\lib\\site-packages\\scipy\\integrate\\quadpack.py\u001b[0m in \u001b[0;36m_quad\u001b[1;34m(func, a, b, args, full_output, epsabs, epsrel, limit, points)\u001b[0m\n\u001b[0;32m    461\u001b[0m     \u001b[1;32mif\u001b[0m \u001b[0mpoints\u001b[0m \u001b[1;32mis\u001b[0m \u001b[1;32mNone\u001b[0m\u001b[1;33m:\u001b[0m\u001b[1;33m\u001b[0m\u001b[1;33m\u001b[0m\u001b[0m\n\u001b[0;32m    462\u001b[0m         \u001b[1;32mif\u001b[0m \u001b[0minfbounds\u001b[0m \u001b[1;33m==\u001b[0m \u001b[1;36m0\u001b[0m\u001b[1;33m:\u001b[0m\u001b[1;33m\u001b[0m\u001b[1;33m\u001b[0m\u001b[0m\n\u001b[1;32m--> 463\u001b[1;33m             \u001b[1;32mreturn\u001b[0m \u001b[0m_quadpack\u001b[0m\u001b[1;33m.\u001b[0m\u001b[0m_qagse\u001b[0m\u001b[1;33m(\u001b[0m\u001b[0mfunc\u001b[0m\u001b[1;33m,\u001b[0m\u001b[0ma\u001b[0m\u001b[1;33m,\u001b[0m\u001b[0mb\u001b[0m\u001b[1;33m,\u001b[0m\u001b[0margs\u001b[0m\u001b[1;33m,\u001b[0m\u001b[0mfull_output\u001b[0m\u001b[1;33m,\u001b[0m\u001b[0mepsabs\u001b[0m\u001b[1;33m,\u001b[0m\u001b[0mepsrel\u001b[0m\u001b[1;33m,\u001b[0m\u001b[0mlimit\u001b[0m\u001b[1;33m)\u001b[0m\u001b[1;33m\u001b[0m\u001b[1;33m\u001b[0m\u001b[0m\n\u001b[0m\u001b[0;32m    464\u001b[0m         \u001b[1;32melse\u001b[0m\u001b[1;33m:\u001b[0m\u001b[1;33m\u001b[0m\u001b[1;33m\u001b[0m\u001b[0m\n\u001b[0;32m    465\u001b[0m             \u001b[1;32mreturn\u001b[0m \u001b[0m_quadpack\u001b[0m\u001b[1;33m.\u001b[0m\u001b[0m_qagie\u001b[0m\u001b[1;33m(\u001b[0m\u001b[0mfunc\u001b[0m\u001b[1;33m,\u001b[0m\u001b[0mbound\u001b[0m\u001b[1;33m,\u001b[0m\u001b[0minfbounds\u001b[0m\u001b[1;33m,\u001b[0m\u001b[0margs\u001b[0m\u001b[1;33m,\u001b[0m\u001b[0mfull_output\u001b[0m\u001b[1;33m,\u001b[0m\u001b[0mepsabs\u001b[0m\u001b[1;33m,\u001b[0m\u001b[0mepsrel\u001b[0m\u001b[1;33m,\u001b[0m\u001b[0mlimit\u001b[0m\u001b[1;33m)\u001b[0m\u001b[1;33m\u001b[0m\u001b[1;33m\u001b[0m\u001b[0m\n",
      "\u001b[1;32m<ipython-input-10-ca0b1e69f67a>\u001b[0m in \u001b[0;36mentropy_pred_r\u001b[1;34m(x, v)\u001b[0m\n\u001b[0;32m    122\u001b[0m         \u001b[1;32mreturn\u001b[0m \u001b[0mr\u001b[0m\u001b[1;33m\u001b[0m\u001b[1;33m\u001b[0m\u001b[0m\n\u001b[0;32m    123\u001b[0m     \u001b[1;32mdef\u001b[0m \u001b[0mentropy_pred_r\u001b[0m\u001b[1;33m(\u001b[0m\u001b[0mx\u001b[0m\u001b[1;33m,\u001b[0m\u001b[0mv\u001b[0m\u001b[1;33m)\u001b[0m\u001b[1;33m:\u001b[0m\u001b[1;33m\u001b[0m\u001b[1;33m\u001b[0m\u001b[0m\n\u001b[1;32m--> 124\u001b[1;33m         \u001b[1;32mreturn\u001b[0m \u001b[0mentropy_pred\u001b[0m\u001b[1;33m(\u001b[0m\u001b[0mx\u001b[0m\u001b[1;33m,\u001b[0m\u001b[0mv\u001b[0m\u001b[1;33m)\u001b[0m\u001b[1;33m.\u001b[0m\u001b[0mreal\u001b[0m\u001b[1;33m\u001b[0m\u001b[1;33m\u001b[0m\u001b[0m\n\u001b[0m\u001b[0;32m    125\u001b[0m     \u001b[1;32mdef\u001b[0m \u001b[0mentropy_pred_i\u001b[0m\u001b[1;33m(\u001b[0m\u001b[0mx\u001b[0m\u001b[1;33m,\u001b[0m\u001b[0mv\u001b[0m\u001b[1;33m)\u001b[0m\u001b[1;33m:\u001b[0m\u001b[1;33m\u001b[0m\u001b[1;33m\u001b[0m\u001b[0m\n\u001b[0;32m    126\u001b[0m         \u001b[1;32mreturn\u001b[0m \u001b[0mentropy_pred\u001b[0m\u001b[1;33m(\u001b[0m\u001b[0mx\u001b[0m\u001b[1;33m,\u001b[0m\u001b[0mv\u001b[0m\u001b[1;33m)\u001b[0m\u001b[1;33m.\u001b[0m\u001b[0mimag\u001b[0m\u001b[1;33m\u001b[0m\u001b[1;33m\u001b[0m\u001b[0m\n",
      "\u001b[1;32m<ipython-input-10-ca0b1e69f67a>\u001b[0m in \u001b[0;36mentropy_pred\u001b[1;34m(x, v)\u001b[0m\n\u001b[0;32m    107\u001b[0m \u001b[1;33m\u001b[0m\u001b[0m\n\u001b[0;32m    108\u001b[0m     \u001b[1;32mdef\u001b[0m \u001b[0mentropy_pred\u001b[0m\u001b[1;33m(\u001b[0m\u001b[0mx\u001b[0m\u001b[1;33m,\u001b[0m \u001b[0mv\u001b[0m\u001b[1;33m)\u001b[0m\u001b[1;33m:\u001b[0m\u001b[1;33m\u001b[0m\u001b[1;33m\u001b[0m\u001b[0m\n\u001b[1;32m--> 109\u001b[1;33m         \u001b[0mU_x\u001b[0m \u001b[1;33m=\u001b[0m \u001b[0mff\u001b[0m\u001b[1;33m(\u001b[0m\u001b[0mx\u001b[0m\u001b[1;33m)\u001b[0m\u001b[1;33m\u001b[0m\u001b[1;33m\u001b[0m\u001b[0m\n\u001b[0m\u001b[0;32m    110\u001b[0m \u001b[1;33m\u001b[0m\u001b[0m\n\u001b[0;32m    111\u001b[0m         \u001b[1;32mif\u001b[0m\u001b[1;33m(\u001b[0m\u001b[0mkp\u001b[0m\u001b[1;33m==\u001b[0m\u001b[1;36m0\u001b[0m\u001b[1;33m)\u001b[0m\u001b[1;33m:\u001b[0m\u001b[1;33m\u001b[0m\u001b[1;33m\u001b[0m\u001b[0m\n",
      "\u001b[1;32m<ipython-input-10-ca0b1e69f67a>\u001b[0m in \u001b[0;36mff\u001b[1;34m(x)\u001b[0m\n\u001b[0;32m     76\u001b[0m \u001b[1;33m\u001b[0m\u001b[0m\n\u001b[0;32m     77\u001b[0m     \u001b[1;32mdef\u001b[0m \u001b[0mff\u001b[0m\u001b[1;33m(\u001b[0m\u001b[0mx\u001b[0m\u001b[1;33m)\u001b[0m\u001b[1;33m:\u001b[0m\u001b[1;33m\u001b[0m\u001b[1;33m\u001b[0m\u001b[0m\n\u001b[1;32m---> 78\u001b[1;33m         \u001b[1;32mreturn\u001b[0m \u001b[0msol4ode\u001b[0m\u001b[1;33m.\u001b[0m\u001b[0msol\u001b[0m\u001b[1;33m(\u001b[0m\u001b[0mx\u001b[0m\u001b[1;33m)\u001b[0m\u001b[1;33m[\u001b[0m\u001b[1;36m1\u001b[0m\u001b[1;33m]\u001b[0m\u001b[1;33m\u001b[0m\u001b[1;33m\u001b[0m\u001b[0m\n\u001b[0m\u001b[0;32m     79\u001b[0m     \u001b[1;32mdef\u001b[0m \u001b[0mff_r\u001b[0m\u001b[1;33m(\u001b[0m\u001b[0mx\u001b[0m\u001b[1;33m)\u001b[0m\u001b[1;33m:\u001b[0m\u001b[1;33m\u001b[0m\u001b[1;33m\u001b[0m\u001b[0m\n\u001b[0;32m     80\u001b[0m         \u001b[1;32mreturn\u001b[0m \u001b[0mff\u001b[0m\u001b[1;33m(\u001b[0m\u001b[0mx\u001b[0m\u001b[1;33m)\u001b[0m\u001b[1;33m.\u001b[0m\u001b[0mreal\u001b[0m\u001b[1;33m\u001b[0m\u001b[1;33m\u001b[0m\u001b[0m\n",
      "\u001b[1;32mc:\\users\\rguo\\appdata\\local\\programs\\python\\python37\\lib\\site-packages\\scipy\\interpolate\\interpolate.py\u001b[0m in \u001b[0;36m__call__\u001b[1;34m(self, x, nu, extrapolate)\u001b[0m\n\u001b[0;32m    910\u001b[0m         \u001b[0mout\u001b[0m \u001b[1;33m=\u001b[0m \u001b[0mnp\u001b[0m\u001b[1;33m.\u001b[0m\u001b[0mempty\u001b[0m\u001b[1;33m(\u001b[0m\u001b[1;33m(\u001b[0m\u001b[0mlen\u001b[0m\u001b[1;33m(\u001b[0m\u001b[0mx\u001b[0m\u001b[1;33m)\u001b[0m\u001b[1;33m,\u001b[0m \u001b[0mprod\u001b[0m\u001b[1;33m(\u001b[0m\u001b[0mself\u001b[0m\u001b[1;33m.\u001b[0m\u001b[0mc\u001b[0m\u001b[1;33m.\u001b[0m\u001b[0mshape\u001b[0m\u001b[1;33m[\u001b[0m\u001b[1;36m2\u001b[0m\u001b[1;33m:\u001b[0m\u001b[1;33m]\u001b[0m\u001b[1;33m)\u001b[0m\u001b[1;33m)\u001b[0m\u001b[1;33m,\u001b[0m \u001b[0mdtype\u001b[0m\u001b[1;33m=\u001b[0m\u001b[0mself\u001b[0m\u001b[1;33m.\u001b[0m\u001b[0mc\u001b[0m\u001b[1;33m.\u001b[0m\u001b[0mdtype\u001b[0m\u001b[1;33m)\u001b[0m\u001b[1;33m\u001b[0m\u001b[1;33m\u001b[0m\u001b[0m\n\u001b[0;32m    911\u001b[0m         \u001b[0mself\u001b[0m\u001b[1;33m.\u001b[0m\u001b[0m_ensure_c_contiguous\u001b[0m\u001b[1;33m(\u001b[0m\u001b[1;33m)\u001b[0m\u001b[1;33m\u001b[0m\u001b[1;33m\u001b[0m\u001b[0m\n\u001b[1;32m--> 912\u001b[1;33m         \u001b[0mself\u001b[0m\u001b[1;33m.\u001b[0m\u001b[0m_evaluate\u001b[0m\u001b[1;33m(\u001b[0m\u001b[0mx\u001b[0m\u001b[1;33m,\u001b[0m \u001b[0mnu\u001b[0m\u001b[1;33m,\u001b[0m \u001b[0mextrapolate\u001b[0m\u001b[1;33m,\u001b[0m \u001b[0mout\u001b[0m\u001b[1;33m)\u001b[0m\u001b[1;33m\u001b[0m\u001b[1;33m\u001b[0m\u001b[0m\n\u001b[0m\u001b[0;32m    913\u001b[0m         \u001b[0mout\u001b[0m \u001b[1;33m=\u001b[0m \u001b[0mout\u001b[0m\u001b[1;33m.\u001b[0m\u001b[0mreshape\u001b[0m\u001b[1;33m(\u001b[0m\u001b[0mx_shape\u001b[0m \u001b[1;33m+\u001b[0m \u001b[0mself\u001b[0m\u001b[1;33m.\u001b[0m\u001b[0mc\u001b[0m\u001b[1;33m.\u001b[0m\u001b[0mshape\u001b[0m\u001b[1;33m[\u001b[0m\u001b[1;36m2\u001b[0m\u001b[1;33m:\u001b[0m\u001b[1;33m]\u001b[0m\u001b[1;33m)\u001b[0m\u001b[1;33m\u001b[0m\u001b[1;33m\u001b[0m\u001b[0m\n\u001b[0;32m    914\u001b[0m         \u001b[1;32mif\u001b[0m \u001b[0mself\u001b[0m\u001b[1;33m.\u001b[0m\u001b[0maxis\u001b[0m \u001b[1;33m!=\u001b[0m \u001b[1;36m0\u001b[0m\u001b[1;33m:\u001b[0m\u001b[1;33m\u001b[0m\u001b[1;33m\u001b[0m\u001b[0m\n",
      "\u001b[1;31mKeyboardInterrupt\u001b[0m: "
     ]
    }
   ],
   "source": [
    "para_guess = [0.14708099,2.83689694]\n",
    "para_guess = [3.20396257,1.02909498]\n",
    "#para_guess = [0.014708099,28.3689694]\n",
    "sol_para = op.root(partial(eq4para,energy=einit_theo,entropy=entropyt), para_guess, method='lm')\n",
    "#sol_para = op.root(partial(eq4para,energy=einit_theo,entropy=entropy_sim), para_guess, method='hybr')\n",
    "para = sol_para.x\n",
    "\n",
    "print(para)\n",
    "print(sol_para.fun,sol_para.success)"
   ]
  },
  {
   "cell_type": "code",
   "execution_count": null,
   "metadata": {
    "code_folding": [
     5,
     7,
     9
    ]
   },
   "outputs": [],
   "source": [
    "#para = [0.67889345,1.37987956]#for S_BG\n",
    "#para= [1.606,1.374]#for S_2\n",
    "#para = [2.0,1.2]\n",
    "yguess = np.array([ug_dev(x), ui(x)])\n",
    "sol = solve_bvp(partial(eq4U,p=para), bc4U, x, yguess,tol=1e-13,max_nodes=50000)\n",
    "def fx_theo(x):\n",
    "    return sol.sol(x)[1].real\n",
    "def t_theo(x):\n",
    "    return para[1]*(fx_theo(x).real)**(-1.0/(para[0]+1))\n",
    "def phi_theo(x):\n",
    "    return -para[0]*t_theo(x)/q"
   ]
  },
  {
   "cell_type": "markdown",
   "metadata": {},
   "source": [
    "## 函数定义&数据读取"
   ]
  },
  {
   "cell_type": "code",
   "execution_count": null,
   "metadata": {
    "code_folding": [
     0,
     3,
     10,
     13,
     16,
     19,
     30
    ]
   },
   "outputs": [],
   "source": [
    "def fm(v, t):\n",
    "    r = np.sqrt(1./(2.*np.pi*t))*np.exp(-v**2/(2*t))\n",
    "    return r\n",
    "def fk(v, t, kappa):\n",
    "    if(kappa == 0):\n",
    "        r = fm(v, t)\n",
    "    else:\n",
    "        r = np.sqrt(m/(2.*np.pi*t*kappa)) * sp.gamma(kappa+1.5) / \\\n",
    "            sp.gamma(kappa+1) * (1 + m*v**2 / kappa / 2 / t) ** (-kappa-1.5)\n",
    "    return r\n",
    "def fr(v,t):\n",
    "    r = (-2+np.sqrt(2))*np.sqrt(np.pi*t)*(sp.zetac(0.5)+1) / ( np.exp(v**2/2/t)+1 )\n",
    "    return r\n",
    "def ue(x):\n",
    "    r = 1.+uae*np.cos(2.*np.pi*x/L)\n",
    "    return r\n",
    "def ui(x):\n",
    "    r = 1.+uai*np.cos(2.*np.pi*x/L)\n",
    "    return r\n",
    "def fk_xv(x,v,k,t):\n",
    "    if(k==0):\n",
    "        s = fx_theo(x)*np.sqrt( fx_theo(x)**( 1./(k+1) ) / (2*np.pi*t) )/L\n",
    "        m = np.exp(-v**2 / (2*t) * fx_theo(x)**(1./(k+1)))\n",
    "        r = s*m\n",
    "    else:\n",
    "        s = fx_theo(x)*np.sqrt( fx_theo(x)**( 1./(k+1) ) / (2*np.pi*t*k) )/L\n",
    "        frac = sp.gamma(k+1.5) / sp.gamma(k+1)\n",
    "        m = ( 1+ (v)**2 / (k*2*t) * fx_theo(x)**(1./(k+1)) )**(-k-1.5)\n",
    "        r = s*frac*m\n",
    "    return r.real\n",
    "def fk_v_nonvec(vv,kk,tt):\n",
    "    r = integrate.quad(partial(fk_xv,v=vv,k=kk,t=tt),0,L)[0]\n",
    "    return r\n",
    "fk_v = np.vectorize(fk_v_nonvec)"
   ]
  },
  {
   "cell_type": "code",
   "execution_count": null,
   "metadata": {
    "code_folding": [
     5
    ]
   },
   "outputs": [],
   "source": [
    "progesses = np.arange(0,data_num,1)\n",
    "\n",
    "f = []\n",
    "phi = []\n",
    "\n",
    "for progess in progesses:\n",
    "    f_temp = np.loadtxt(os.path.join(path,\"data\"+str(progess)))\n",
    "    f.append(f_temp)\n",
    "    phi_temp = np.loadtxt(os.path.join(path,\"phi\"+str(progess)))\n",
    "    phi.append(phi_temp)"
   ]
  },
  {
   "cell_type": "markdown",
   "metadata": {},
   "source": [
    "## 定态展示"
   ]
  },
  {
   "cell_type": "code",
   "execution_count": null,
   "metadata": {},
   "outputs": [],
   "source": [
    "dataet = np.loadtxt(os.path.join(path, \"tot_energy\"))[0:max_steps]\n",
    "dataep = np.loadtxt(os.path.join(path, \"pot_energy\"))[0:max_steps]\n",
    "dataek = np.loadtxt(os.path.join(path, \"kin_energy\"))[0:max_steps]\n",
    "\n",
    "t = np.linspace(0, max_steps, max_steps)"
   ]
  },
  {
   "cell_type": "code",
   "execution_count": null,
   "metadata": {},
   "outputs": [],
   "source": [
    "fig = plt.figure(figsize=(12, 3))\n",
    "\n",
    "ax1 = plt.subplot2grid((3, 2), (0, 0))\n",
    "ax1.plot(t, dataek, color='orange')\n",
    "ax1.set_ylabel(r'$E_k$')\n",
    "ax1.yaxis.set_label_position(\"right\")\n",
    "\n",
    "ax2 = plt.subplot2grid((3, 2), (1, 0))\n",
    "ax2.plot(t, dataep, color='r')\n",
    "ax2.set_ylabel(r'$E_p$')\n",
    "ax2.yaxis.set_label_position(\"right\")\n",
    "\n",
    "ax3 = plt.subplot2grid((3, 2), (2, 0))\n",
    "ax3.plot(t, dataet, color='black')\n",
    "ax3.set_ylabel(r'$E_{tot}$')\n",
    "ax3.yaxis.set_label_position(\"right\")\n",
    "\n",
    "axl2 = plt.subplot2grid((3, 2), (0, 1), rowspan=3)\n",
    "axl2.plot(t, dataep, color='r')\n",
    "axl2.set_ylabel(r'$\\ln E_p$')\n",
    "axl2.set_yscale('log')\n",
    "axl2.yaxis.set_label_position(\"right\")\n",
    "\n",
    "fig.subplots_adjust(bottom=0.1, top=0.9, hspace=.5, wspace=.2)\n",
    "plt.xlabel(r'$t$')\n",
    "plt.show()"
   ]
  },
  {
   "cell_type": "code",
   "execution_count": null,
   "metadata": {
    "code_folding": [
     8
    ]
   },
   "outputs": [],
   "source": [
    "\n",
    "ek_sim = dataek[max_steps-1]\n",
    "ep_sim = dataep[max_steps-1]\n",
    "energy_sim=dataet[max_steps-1]\n",
    "print(\"Ek = \",ek_sim)\n",
    "print(\"Ep = \",ep_sim)\n",
    "print(\"Etot = \",energy_sim)\n",
    "\n",
    "def entropy_calc(f):\n",
    "    s = 0.0\n",
    "    for i in f.flatten():\n",
    "        s += (i/L)**2\n",
    "        #if (i>0):\n",
    "            #s += -i/L * np.log(i/L)\n",
    "    return s*dx*dv\n",
    "\n",
    "entropy_sim = entropy_calc(f[data_num-1])\n",
    "print('S= ',entropy_sim)\n",
    "#print('E_erro=', (einit_theo-energy_sim)/einit_theo*100, \"%\")\n",
    "print('S_erro=', (entropyt-entropy_sim)/entropyt*100, \"%\")"
   ]
  },
  {
   "cell_type": "markdown",
   "metadata": {},
   "source": [
    "### 分布函数fx fv"
   ]
  },
  {
   "cell_type": "code",
   "execution_count": null,
   "metadata": {
    "code_folding": []
   },
   "outputs": [],
   "source": [
    "fx0 = np.sum(f[0],axis=1)*dv\n",
    "fv0 = np.sum(f[0],axis=0)*dx/L\n",
    "fx = np.sum(f[data_num-1],axis=1)*dv\n",
    "fv = np.sum(f[data_num-1],axis=0)*dx/L\n",
    "T0 = np.sum(v**2*f[0],axis=1)*dv/fx0\n",
    "T = np.sum(v**2*f[data_num-1],axis=1)*dv/fx\n",
    "\n",
    "#T_times = []\n",
    "#for i in range(data_num-1):\n",
    "#    f_temp = f[data_num-1-i]\n",
    "#    fx_temp = np.sum(f_temp,axis=1)*dv\n",
    "#    T_temp = np.sum(v**2*f_temp,axis=1)*dv/fx_temp\n",
    "#    T_times.append(T_temp)\n",
    "#T = np.mean(T_times,axis=0)"
   ]
  },
  {
   "cell_type": "code",
   "execution_count": null,
   "metadata": {},
   "outputs": [],
   "source": [
    "grad_p = np.diff(fx*T)/dx\n",
    "grad_p = np.append(grad_p, grad_p[0])\n",
    "grad_phi = np.diff(phi[data_num-1])/dx\n",
    "grad_phi = np.append(grad_phi, grad_phi[0])\n",
    "\n",
    "grad_p_theo = np.diff(fx_theo(x)*t_theo(x))/dx\n",
    "grad_p_theo = np.append(grad_p_theo, grad_p_theo[0])\n",
    "grad_phi_theo = np.diff(phi_theo(x))/dx\n",
    "grad_phi_theo = np.append(grad_phi_theo,grad_phi_theo[0])"
   ]
  },
  {
   "cell_type": "code",
   "execution_count": null,
   "metadata": {
    "code_folding": [
     0
    ]
   },
   "outputs": [],
   "source": [
    "chi_err_f = np.sum(\n",
    "    ( (fk_v(v, para[0], para[1])-fv) )**2/fk_v(v,para[0], para[1]) * dv)\n",
    "print(chi_err_f)"
   ]
  },
  {
   "cell_type": "code",
   "execution_count": null,
   "metadata": {
    "code_folding": [
     15,
     55
    ]
   },
   "outputs": [],
   "source": [
    "fig = plt.figure(figsize=(8, 9))\n",
    "\n",
    "ax1 = plt.subplot2grid((3, 2), (0, 0))\n",
    "ax1.plot(t, dataep, color='blue')\n",
    "ax1.set_ylabel(r'$\\ln E_p$')\n",
    "ax1.set_yscale('log')\n",
    "ax1.grid()\n",
    "\n",
    "ax2 = plt.subplot2grid((3, 2), (0, 1))\n",
    "vstart = -vmax\n",
    "vend = vmax\n",
    "nvs = int((vstart + vmax) / dv)\n",
    "nve = int((vend + vmax) / dv)\n",
    "ax2.plot(v[nvs:nve], fv0[nvs:nve], color='red', label='intial')\n",
    "ax2.plot(v[nvs:nve], fv[nvs:nve], color='blue', label='simulation')\n",
    "ax2.plot(v[nvs:nve], fk_v(v[nvs:nve], para[0], para[1]),\n",
    "         '--', color='black', label='theo')\n",
    "ax2.set_xlabel(r'$v$')\n",
    "ax2.set_ylabel(r'$f_{v,e}(v)$')\n",
    "ax2.text(-3, 2e-5, r'$\\chi^2 = $'+('%.8f' % chi_err_f))\n",
    "ax2.set_yscale('log')\n",
    "ax2.grid()\n",
    "\n",
    "ax3 = plt.subplot2grid((3, 2), (1, 0))\n",
    "ax3.plot(x, fx0, color='r', label='initial')\n",
    "ax3.plot(x, fx, color='blue', label='final')\n",
    "ax3.plot(x, fx_theo(x), '--', color='black', label='theo')\n",
    "ax3.set_ylabel(r'$n_e^*$')\n",
    "ax3.grid()\n",
    "\n",
    "\n",
    "Ttest = np.sum(v[nvs:nve]**2*f[data_num-1][:, nvs:nve], axis=1)*dv/fx\n",
    "ax4 = plt.subplot2grid((3, 2), (1, 1))\n",
    "ax4.plot(x, T0, color='r', label='initial')\n",
    "ax4.plot(x, Ttest, color='blue', label='final')\n",
    "ax4.plot(x, t_theo(x), '--', color='black', label='theo')\n",
    "ax4.set_ylabel(r'$T$')\n",
    "ax4.grid()\n",
    "\n",
    "ax5 = plt.subplot2grid((3, 2), (2, 0))\n",
    "ax5.plot(x,grad_p,color='blue', label=r'$\\nabla p$')\n",
    "ax5.plot(x,fx*grad_phi,color='orange', label=r'$ne\\nabla \\phi$')\n",
    "ax5.plot(x,grad_p_theo,linestyle='--',color='black',label=r'theory')\n",
    "ax5.set_xlabel(r'$x$')\n",
    "ax5.legend()\n",
    "ax5.grid()\n",
    "\n",
    "p=-stats.linregress(np.log(T),np.log(fx)).slope-1\n",
    "ax6 = plt.subplot2grid((3, 2), (2, 1))\n",
    "ax6.plot(np.log(T),np.log(fx),label=r'$\\kappa_0^{sim} = $'+ ('%.3f' % p))\n",
    "ax6.set_xlabel(r'$\\ln T$')\n",
    "ax6.set_ylabel(r'$\\ln n$')\n",
    "ax6.legend()\n",
    "ax6.grid()\n",
    "\n",
    "title_text = \"L= \" + str(L) + r\"$; \\Delta_e= $\" + str(uae) + r\"$; \\Delta_i= $\" + str(uai) + r\"$; \\kappa_0= $\" + str(round(para[0], 3)) + r\"$; T_0= $\" + str(\n",
    "    round(para[1], 3)) + \"; Time= \" + str(int(dt*max_steps))\n",
    "fig.suptitle(title_text, va='bottom')\n",
    "plt.tight_layout()\n",
    "#plt.savefig(\"../results/formation_kappa_distribution/10_S2.png\", dpi=600,bbox_inches = 'tight')\n",
    "plt.show()"
   ]
  },
  {
   "cell_type": "code",
   "execution_count": null,
   "metadata": {},
   "outputs": [],
   "source": [
    "plt.plot(x,phi[data_num-1])\n",
    "plt.grid()\n",
    "plt.show()\n",
    "phi_min = min(phi[data_num-1])\n",
    "phi_max = max(phi[data_num-1])"
   ]
  },
  {
   "cell_type": "code",
   "execution_count": null,
   "metadata": {},
   "outputs": [],
   "source": [
    "idx_x0 = 50\n",
    "v_c = np.sqrt(2*q*(phi_max - phi[data_num-1][idx_x0])/m)\n",
    "plt.plot(v,f[data_num-1][idx_x0,:],color='blue')\n",
    "plt.plot(v,fk(v,T[idx_x0],para[0]),'--',color='black')\n",
    "plt.axvline(v_c)\n",
    "plt.axvline(-v_c)\n",
    "plt.yscale('log')\n",
    "plt.grid()\n",
    "plt.show()"
   ]
  },
  {
   "cell_type": "code",
   "execution_count": null,
   "metadata": {},
   "outputs": [],
   "source": []
  }
 ],
 "metadata": {
  "kernelspec": {
   "display_name": "Python 3",
   "language": "python",
   "name": "python3"
  },
  "language_info": {
   "codemirror_mode": {
    "name": "ipython",
    "version": 3
   },
   "file_extension": ".py",
   "mimetype": "text/x-python",
   "name": "python",
   "nbconvert_exporter": "python",
   "pygments_lexer": "ipython3",
   "version": "3.7.4"
  },
  "toc": {
   "base_numbering": 1,
   "nav_menu": {},
   "number_sections": true,
   "sideBar": true,
   "skip_h1_title": false,
   "title_cell": "Table of Contents",
   "title_sidebar": "Contents",
   "toc_cell": false,
   "toc_position": {
    "height": "calc(100% - 180px)",
    "left": "10px",
    "top": "150px",
    "width": "236.6px"
   },
   "toc_section_display": true,
   "toc_window_display": false
  },
  "varInspector": {
   "cols": {
    "lenName": 16,
    "lenType": 16,
    "lenVar": 40
   },
   "kernels_config": {
    "python": {
     "delete_cmd_postfix": "",
     "delete_cmd_prefix": "del ",
     "library": "var_list.py",
     "varRefreshCmd": "print(var_dic_list())"
    },
    "r": {
     "delete_cmd_postfix": ") ",
     "delete_cmd_prefix": "rm(",
     "library": "var_list.r",
     "varRefreshCmd": "cat(var_dic_list()) "
    }
   },
   "types_to_exclude": [
    "module",
    "function",
    "builtin_function_or_method",
    "instance",
    "_Feature"
   ],
   "window_display": false
  }
 },
 "nbformat": 4,
 "nbformat_minor": 2
}
