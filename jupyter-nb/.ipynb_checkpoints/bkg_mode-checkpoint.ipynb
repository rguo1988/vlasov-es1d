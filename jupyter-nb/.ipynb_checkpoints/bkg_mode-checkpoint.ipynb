{
 "cells": [
  {
   "cell_type": "code",
   "execution_count": 1,
   "metadata": {},
   "outputs": [],
   "source": [
    "import numpy as np\n",
    "import matplotlib\n",
    "\n",
    "import matplotlib.cm as cm\n",
    "import matplotlib.pyplot as plt\n",
    "import os\n",
    "from scipy.misc import derivative\n",
    "from scipy.integrate import solve_bvp\n",
    "from functools import partial\n",
    "from scipy import special as sp\n",
    "import plasmapy.mathematics\n",
    "import scipy.optimize as op\n",
    "from functools import partial\n",
    "from scipy import integrate\n",
    "%config InlineBackend.figure_format = 'svg'\n",
    "#%matplotlib notebook"
   ]
  },
  {
   "cell_type": "code",
   "execution_count": 7,
   "metadata": {},
   "outputs": [],
   "source": [
    "tem = 1\n",
    "L = 15\n",
    "vmax = 5  # 10 * np.sqrt(tem)\n",
    "nx = 201\n",
    "nv = 1201\n",
    "dx = L/(nx-1)\n",
    "dv = 2*vmax/(nv-1)\n",
    "x = np.linspace(0, L, num=nx, endpoint=True)\n",
    "v = np.linspace(-vmax, vmax, num=nv, endpoint=True)\n",
    "V, X = np.meshgrid(v, x)\n",
    "max_steps = 80\n",
    "\n",
    "uae = 0.3\n",
    "\n",
    "path = './data/'\n",
    "\n",
    "m=1\n",
    "n=1\n",
    "q=1\n",
    "v_th = np.sqrt(2*tem)\n",
    "l_D = np.sqrt( tem) # $\\lambda_D^2$\n",
    "w_pe = 1"
   ]
  },
  {
   "cell_type": "markdown",
   "metadata": {},
   "source": [
    "## nonlinear Landau damping to a bgk mode"
   ]
  },
  {
   "cell_type": "code",
   "execution_count": 8,
   "metadata": {
    "code_folding": [
     1
    ]
   },
   "outputs": [
    {
     "name": "stdout",
     "output_type": "stream",
     "text": [
      "k =  0.41887902047863906\n",
      "w_r =  1.3096062176484635\n",
      "w_i =  -0.08039781657437421\n",
      "rt =  0.14678565903982493\n",
      "rtime 1800.0\n"
     ]
    }
   ],
   "source": [
    "k = 2*np.pi/L\n",
    "def eq4PDRM(w,k):\n",
    "    wr,wi=w\n",
    "    wc=complex(wr,wi)\n",
    "    zeta = wc / k /v_th\n",
    "    r = 1 + 1 / k**2 / l_D**2 * ( 1 + zeta*plasmapy.mathematics.plasma_dispersion_func(zeta) )\n",
    "    return [r.real,r.imag]\n",
    "#kvec = np.arange(.1,1.2,0.1)\n",
    "print(\"k = \",k)\n",
    "s=op.root(lambda w:eq4PDRM(w,k),[1,0.1])\n",
    "print(\"w_r = \",s.x[0])\n",
    "print(\"w_i = \",s.x[1])\n",
    "print(\"rt = \", abs(s.x[1]/np.sqrt(uae)))\n",
    "print('rtime',2*np.pi/k/dv)"
   ]
  },
  {
   "cell_type": "code",
   "execution_count": 9,
   "metadata": {
    "code_folding": []
   },
   "outputs": [],
   "source": [
    "progesses = np.arange(0,max_steps,1)\n",
    "\n",
    "f = []\n",
    "\n",
    "for progess in progesses:\n",
    "    f_temp = np.loadtxt(os.path.join(path,\"data\"+str(progess)))\n",
    "    f.append(f_temp)"
   ]
  },
  {
   "cell_type": "code",
   "execution_count": null,
   "metadata": {},
   "outputs": [],
   "source": [
    "dataet = np.loadtxt(os.path.join(path, \"tot_energy\"))\n",
    "dataep = np.loadtxt(os.path.join(path, \"pot_energy\"))\n",
    "dataek = np.loadtxt(os.path.join(path, \"kin_energy\"))\n",
    "tmax = 10000*max_steps\n",
    "t = np.linspace(0, tmax, tmax)"
   ]
  },
  {
   "cell_type": "code",
   "execution_count": null,
   "metadata": {},
   "outputs": [],
   "source": [
    "fig = plt.figure(figsize=(12, 3))\n",
    "\n",
    "ax1 = plt.subplot2grid((3, 2), (0, 0))\n",
    "ax1.plot(t, dataek, color='orange')\n",
    "ax1.set_ylabel(r'$E_k$')\n",
    "ax1.yaxis.set_label_position(\"right\")\n",
    "\n",
    "ax2 = plt.subplot2grid((3, 2), (1, 0))\n",
    "ax2.plot(t, dataep, color='r')\n",
    "ax2.set_ylabel(r'$E_p$')\n",
    "ax2.yaxis.set_label_position(\"right\")\n",
    "\n",
    "ax3 = plt.subplot2grid((3, 2), (2, 0))\n",
    "ax3.plot(t, dataet, color='black')\n",
    "ax3.set_ylabel(r'$E_{tot}$')\n",
    "ax3.yaxis.set_label_position(\"right\")\n",
    "\n",
    "axl2 = plt.subplot2grid((3, 2), (0, 1), rowspan=3)\n",
    "axl2.plot(t, dataep, color='r')\n",
    "axl2.set_ylabel(r'$\\ln E_p$')\n",
    "axl2.set_yscale('log')\n",
    "axl2.yaxis.set_label_position(\"right\")\n",
    "\n",
    "fig.subplots_adjust(bottom=0.1, top=0.9, hspace=.5, wspace=.2)\n",
    "plt.xlabel(r'$t$')\n",
    "plt.show()"
   ]
  },
  {
   "cell_type": "markdown",
   "metadata": {},
   "source": [
    "### 初始分布函数fx fv"
   ]
  },
  {
   "cell_type": "code",
   "execution_count": null,
   "metadata": {
    "code_folding": [
     0,
     3,
     10,
     13
    ]
   },
   "outputs": [],
   "source": [
    "def fm(v, t):\n",
    "    r = np.sqrt(1./(2.*np.pi*t))*np.exp(-v**2/(2*t))\n",
    "    return r\n",
    "def fk(v, t, kappa):\n",
    "    if(kappa == 0):\n",
    "        r = fm(v, t)\n",
    "    else:\n",
    "        r = np.sqrt(m/(2.*np.pi*t*kappa)) * sp.gamma(kappa+1.5) / \\\n",
    "            sp.gamma(kappa+1) * (1 + m*v**2 / kappa / 2 / t) ** (-kappa-1.5)\n",
    "    return r\n",
    "def ue(x):\n",
    "    r = 1.+uae*np.cos(2.*np.pi*x/L)\n",
    "    return r\n",
    "def ui(x):\n",
    "    r = 1.+uai*np.cos(2.*np.pi*x/L)\n",
    "    return r"
   ]
  },
  {
   "cell_type": "code",
   "execution_count": null,
   "metadata": {},
   "outputs": [],
   "source": [
    "fx0 = np.sum(f[0][:,0:nv-1],axis=1)*dv\n",
    "fv0 = np.sum(f[0][0:nx-1,:],axis=0)*dx"
   ]
  },
  {
   "cell_type": "code",
   "execution_count": null,
   "metadata": {
    "code_folding": []
   },
   "outputs": [],
   "source": [
    "fx0 = np.sum(f[0],axis=1)*dv\n",
    "fv0 = np.sum(f[0],axis=0)*dx/L\n",
    "fig = plt.figure(figsize=(12,5))\n",
    "ax1 = plt.subplot2grid((1, 2), (0, 0))\n",
    "ax2 = plt.subplot2grid((1, 2), (0, 1))\n",
    "\n",
    "ax1.plot(v,fv0,'.',color='r',label='sim')\n",
    "ax1.plot(v,fm(v,tem),color='blue',label='Maxwellian')\n",
    "ax1.set_yscale('log')\n",
    "\n",
    "ax2.plot(x,fx0,'.',color='black',label='sim')\n",
    "ax2.plot(x,ue(x),color='orange',label='e')\n",
    "\n",
    "ax1.legend()\n",
    "ax2.legend()\n",
    "ax1.grid()\n",
    "ax2.grid()\n",
    "plt.show()"
   ]
  },
  {
   "cell_type": "markdown",
   "metadata": {},
   "source": [
    "### 末态分布函数"
   ]
  },
  {
   "cell_type": "code",
   "execution_count": null,
   "metadata": {},
   "outputs": [],
   "source": [
    "fx = np.sum(f[max_steps-1],axis=1)*dv\n",
    "fv = np.sum(f[max_steps-1],axis=0)*dx/L\n",
    "fig = plt.figure(figsize=(12,5))\n",
    "ax1 = plt.subplot2grid((1, 2), (0, 0))\n",
    "ax2 = plt.subplot2grid((1, 2), (0, 1))\n",
    "\n",
    "ax1.plot(v,fv,'.',color='r',label='sim')\n",
    "ax1.plot(v,fm(v,tem),color='blue',label='Maxwellian')\n",
    "ax1.set_yscale('log')\n",
    "\n",
    "ax2.plot(x,fx,'.',color='black',label='sim')\n",
    "\n",
    "ax1.legend()\n",
    "ax2.legend()\n",
    "ax1.grid()\n",
    "ax2.grid()\n",
    "plt.show()"
   ]
  },
  {
   "cell_type": "code",
   "execution_count": null,
   "metadata": {},
   "outputs": [],
   "source": [
    "Z = f[max_steps-1]\n",
    "fz = np.sum(Z,axis=1)*dv\n",
    "vv = v\n",
    "T = np.sum(vv**2*Z,axis=1)*dv/fz\n",
    "plt.plot(x,T)\n",
    "plt.show()"
   ]
  },
  {
   "cell_type": "code",
   "execution_count": null,
   "metadata": {},
   "outputs": [],
   "source": [
    "fig = plt.figure(figsize=(12,12))\n",
    "ax = plt.subplot()\n",
    "Z = f[max_steps-1]\n",
    "plt.contourf(X,V,Z,levels=1000)\n",
    "plt.show()"
   ]
  },
  {
   "cell_type": "code",
   "execution_count": null,
   "metadata": {},
   "outputs": [],
   "source": []
  },
  {
   "cell_type": "code",
   "execution_count": null,
   "metadata": {},
   "outputs": [],
   "source": []
  }
 ],
 "metadata": {
  "kernelspec": {
   "display_name": "Python 3",
   "language": "python",
   "name": "python3"
  },
  "language_info": {
   "codemirror_mode": {
    "name": "ipython",
    "version": 3
   },
   "file_extension": ".py",
   "mimetype": "text/x-python",
   "name": "python",
   "nbconvert_exporter": "python",
   "pygments_lexer": "ipython3",
   "version": "3.7.4"
  },
  "toc": {
   "base_numbering": 1,
   "nav_menu": {},
   "number_sections": true,
   "sideBar": true,
   "skip_h1_title": false,
   "title_cell": "Table of Contents",
   "title_sidebar": "Contents",
   "toc_cell": false,
   "toc_position": {},
   "toc_section_display": true,
   "toc_window_display": false
  },
  "varInspector": {
   "cols": {
    "lenName": 16,
    "lenType": 16,
    "lenVar": 40
   },
   "kernels_config": {
    "python": {
     "delete_cmd_postfix": "",
     "delete_cmd_prefix": "del ",
     "library": "var_list.py",
     "varRefreshCmd": "print(var_dic_list())"
    },
    "r": {
     "delete_cmd_postfix": ") ",
     "delete_cmd_prefix": "rm(",
     "library": "var_list.r",
     "varRefreshCmd": "cat(var_dic_list()) "
    }
   },
   "types_to_exclude": [
    "module",
    "function",
    "builtin_function_or_method",
    "instance",
    "_Feature"
   ],
   "window_display": false
  }
 },
 "nbformat": 4,
 "nbformat_minor": 2
}
