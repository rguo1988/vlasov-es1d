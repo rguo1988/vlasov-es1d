{
 "cells": [
  {
   "cell_type": "code",
   "execution_count": 1,
   "metadata": {},
   "outputs": [
    {
     "name": "stderr",
     "output_type": "stream",
     "text": [
      "c:\\users\\rguo\\appdata\\local\\programs\\python\\python37\\lib\\site-packages\\ipykernel_launcher.py:11: UserWarning: matplotlib.pyplot as already been imported, this call will have no effect.\n",
      "  # This is added back by InteractiveShellApp.init_path()\n"
     ]
    }
   ],
   "source": [
    "import numpy as np\n",
    "import matplotlib\n",
    "\n",
    "import matplotlib.cm as cm\n",
    "import matplotlib.pyplot as plt\n",
    "import os\n",
    "from matplotlib.animation import FuncAnimation\n",
    "from matplotlib.animation import FFMpegWriter\n",
    "from matplotlib.animation import FFMpegFileWriter\n",
    "from IPython.display import HTML\n",
    "matplotlib.use(\"Agg\")\n",
    "%config InlineBackend.figure_format = 'svg'\n",
    "#%matplotlib notebook"
   ]
  },
  {
   "cell_type": "code",
   "execution_count": 2,
   "metadata": {},
   "outputs": [],
   "source": [
    "tem = 1\n",
    "L = 10\n",
    "N = 1\n",
    "n = N/L\n",
    "vmax = 5#10 * np.sqrt(tem)\n",
    "nx = 301\n",
    "nv = 301\n",
    "dx = L/(nx-1)\n",
    "dv = 2*vmax/(nv-1)\n",
    "x = np.linspace(0,L,num=nx,endpoint=True)\n",
    "v = np.linspace(-vmax,vmax,num=nv,endpoint=True)\n",
    "V,X=np.meshgrid(v,x)\n",
    "max_steps = 1000\n",
    "\n",
    "path = '../data/'"
   ]
  },
  {
   "cell_type": "code",
   "execution_count": 3,
   "metadata": {},
   "outputs": [],
   "source": [
    "progesses = np.arange(0,max_steps,1)\n",
    "\n",
    "f = []\n",
    "\n",
    "for progess in progesses:\n",
    "    f_temp = np.loadtxt(os.path.join(path,\"data\"+str(progess)))\n",
    "    f.append(f_temp)"
   ]
  },
  {
   "cell_type": "code",
   "execution_count": null,
   "metadata": {},
   "outputs": [],
   "source": [
    "fig = plt.figure(figsize=(6,6))\n",
    "ax = plt.subplot()\n",
    "writer = FFMpegFileWriter(fps=24,bitrate=-1,codec=\"libx264\")\n",
    "with writer.saving(fig,\"two-stream-instability-vlasov.mp4\",dpi=160):\n",
    "    for frame in range(max_steps):\n",
    "        Z = f[frame]\n",
    "        #tol = 1e-160\n",
    "        #Z[np.less(Z,tol*np.ones(Z.shape))] = 0\n",
    "        plt.contourf(X,V,Z,levels=20,cmap=cm.plasma,vmin=0,vmax=0.7)\n",
    "        writer.grab_frame()\n",
    "        plt.cla()"
   ]
  },
  {
   "cell_type": "code",
   "execution_count": null,
   "metadata": {},
   "outputs": [],
   "source": []
  }
 ],
 "metadata": {
  "kernelspec": {
   "display_name": "Python 3",
   "language": "python",
   "name": "python3"
  },
  "language_info": {
   "codemirror_mode": {
    "name": "ipython",
    "version": 3
   },
   "file_extension": ".py",
   "mimetype": "text/x-python",
   "name": "python",
   "nbconvert_exporter": "python",
   "pygments_lexer": "ipython3",
   "version": "3.7.4"
  },
  "toc": {
   "base_numbering": 1,
   "nav_menu": {},
   "number_sections": true,
   "sideBar": true,
   "skip_h1_title": false,
   "title_cell": "Table of Contents",
   "title_sidebar": "Contents",
   "toc_cell": false,
   "toc_position": {},
   "toc_section_display": true,
   "toc_window_display": false
  },
  "varInspector": {
   "cols": {
    "lenName": 16,
    "lenType": 16,
    "lenVar": 40
   },
   "kernels_config": {
    "python": {
     "delete_cmd_postfix": "",
     "delete_cmd_prefix": "del ",
     "library": "var_list.py",
     "varRefreshCmd": "print(var_dic_list())"
    },
    "r": {
     "delete_cmd_postfix": ") ",
     "delete_cmd_prefix": "rm(",
     "library": "var_list.r",
     "varRefreshCmd": "cat(var_dic_list()) "
    }
   },
   "types_to_exclude": [
    "module",
    "function",
    "builtin_function_or_method",
    "instance",
    "_Feature"
   ],
   "window_display": false
  }
 },
 "nbformat": 4,
 "nbformat_minor": 2
}
